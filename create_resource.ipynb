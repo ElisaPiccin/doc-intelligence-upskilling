{
 "cells": [
  {
   "cell_type": "markdown",
   "id": "2c441cec",
   "metadata": {},
   "source": [
    "### Setup"
   ]
  },
  {
   "cell_type": "code",
   "execution_count": null,
   "id": "0d1f6643",
   "metadata": {},
   "outputs": [],
   "source": [
    "# !pip install azure-mgmt-cognitiveservices==13.6.0"
   ]
  },
  {
   "cell_type": "code",
   "execution_count": 16,
   "id": "4a8a9556",
   "metadata": {},
   "outputs": [],
   "source": [
    "from dotenv import load_dotenv\n",
    "import os"
   ]
  },
  {
   "cell_type": "code",
   "execution_count": 17,
   "id": "d6b370ba",
   "metadata": {},
   "outputs": [],
   "source": [
    "from azure.identity import DefaultAzureCredential\n",
    "from azure.mgmt.cognitiveservices import CognitiveServicesManagementClient\n",
    "from azure.mgmt.cognitiveservices.models import Account, Sku\n",
    "from azure.ai.documentintelligence import DocumentIntelligenceClient\n",
    "from azure.core.credentials import AzureKeyCredential\n",
    "from azure.ai.documentintelligence.models import AnalyzeResult\n"
   ]
  },
  {
   "cell_type": "code",
   "execution_count": 18,
   "id": "60182b52",
   "metadata": {},
   "outputs": [
    {
     "data": {
      "text/plain": [
       "True"
      ]
     },
     "execution_count": 18,
     "metadata": {},
     "output_type": "execute_result"
    }
   ],
   "source": [
    "# Load environment variables from .env file\n",
    "load_dotenv(override=True)"
   ]
  },
  {
   "cell_type": "markdown",
   "id": "c2f9e555",
   "metadata": {},
   "source": [
    "### Create resource"
   ]
  },
  {
   "cell_type": "code",
   "execution_count": 19,
   "id": "4185bfbb",
   "metadata": {},
   "outputs": [],
   "source": [
    "# Set your Azure subscription ID\n",
    "subscription_id = os.environ.get(\"AZURE_SUBSCRIPTION_ID\")"
   ]
  },
  {
   "cell_type": "code",
   "execution_count": 20,
   "id": "38c5b4fa",
   "metadata": {},
   "outputs": [],
   "source": [
    "# Initialize the Azure credentials and management client\n",
    "credential = DefaultAzureCredential()\n",
    "client = CognitiveServicesManagementClient(credential, subscription_id)"
   ]
  },
  {
   "cell_type": "code",
   "execution_count": 25,
   "id": "83063357",
   "metadata": {},
   "outputs": [],
   "source": [
    "# Resource group and resource details\n",
    "resource_group_name = \"ep-rg-post-build-ai-foundry\"    # Replace with your resource group name\n",
    "account_name  = \"ep-doc-intelligence-standalone\"       # Replace with your desired resource name\n",
    "location = \"westeurope\"                                # Replace with your desired Azure region"
   ]
  },
  {
   "cell_type": "code",
   "execution_count": 26,
   "id": "5b112380",
   "metadata": {},
   "outputs": [],
   "source": [
    "account_parameters = Account(\n",
    "    location=location,\n",
    "    kind=\"FormRecognizer\", \n",
    "    sku=Sku(name=\"S0\"),\n",
    "    properties={}\n",
    ")"
   ]
  },
  {
   "cell_type": "code",
   "execution_count": 27,
   "id": "e79a9afd",
   "metadata": {},
   "outputs": [
    {
     "name": "stdout",
     "output_type": "stream",
     "text": [
      "✅ Resource 'ep-doc-intelligence-standalone' created in westeurope\n"
     ]
    }
   ],
   "source": [
    "poller = client.accounts.begin_create(\n",
    "    resource_group_name,\n",
    "    account_name ,\n",
    "    account_parameters\n",
    ")\n",
    "account = poller.result()\n",
    "print(f\"✅ Resource '{account.name}' created in {account.location}\")"
   ]
  },
  {
   "cell_type": "markdown",
   "id": "7d374348",
   "metadata": {},
   "source": [
    "### Retrieve Keys and Endpoint"
   ]
  },
  {
   "cell_type": "code",
   "execution_count": 28,
   "id": "a2b056d3",
   "metadata": {},
   "outputs": [
    {
     "name": "stdout",
     "output_type": "stream",
     "text": [
      "Endpoint: https://westeurope.api.cognitive.microsoft.com/\n"
     ]
    }
   ],
   "source": [
    "# Retrieve keys\n",
    "keys = client.accounts.list_keys(resource_group_name, account_name)\n",
    "key1 = keys.key1\n",
    "\n",
    "# Retrieve endpoint\n",
    "account = client.accounts.get(resource_group_name, account_name)\n",
    "endpoint = account.properties.endpoint\n",
    "\n",
    "print(f\"Endpoint: {endpoint}\")"
   ]
  },
  {
   "cell_type": "markdown",
   "id": "8932fa9a",
   "metadata": {},
   "source": [
    "### Create a Doc Intelligence Client"
   ]
  },
  {
   "cell_type": "code",
   "execution_count": 29,
   "id": "02ed21db",
   "metadata": {},
   "outputs": [],
   "source": [
    "document_intelligence_client = DocumentIntelligenceClient(\n",
    "    endpoint=endpoint, \n",
    "    credential=AzureKeyCredential(key1),\n",
    "    # api_version=\"2024-11-30\" # v4.0 (default)\n",
    ")"
   ]
  },
  {
   "cell_type": "markdown",
   "id": "e2ed27ed",
   "metadata": {},
   "source": [
    "#### Test the Doc Intelligence client"
   ]
  },
  {
   "cell_type": "code",
   "execution_count": 30,
   "id": "c59b19ea",
   "metadata": {},
   "outputs": [],
   "source": [
    "# Read the local file in binary mode\n",
    "with open(\"assets/invoice-logic-apps-tutorial.pdf\", \"rb\") as file:\n",
    "\n",
    "    poller = document_intelligence_client.begin_analyze_document(\n",
    "        \"prebuilt-layout\",\n",
    "        body=file,\n",
    "    )\n",
    "\n",
    "    result: AnalyzeResult = poller.result()"
   ]
  },
  {
   "cell_type": "code",
   "execution_count": 31,
   "id": "a7a07208",
   "metadata": {},
   "outputs": [
    {
     "name": "stdout",
     "output_type": "stream",
     "text": [
      "I've found 3 tables.\n"
     ]
    }
   ],
   "source": [
    "if result.tables:\n",
    "    print(f\"I've found {len(result.tables)} tables.\")\n",
    "else:\n",
    "    print(\"I haven't found any tables.\")"
   ]
  },
  {
   "cell_type": "markdown",
   "id": "118608da",
   "metadata": {},
   "source": [
    "### Delete the resource"
   ]
  },
  {
   "cell_type": "code",
   "execution_count": 32,
   "id": "6fe7a5d4",
   "metadata": {},
   "outputs": [
    {
     "name": "stdout",
     "output_type": "stream",
     "text": [
      "🗑️ Resource 'ep-doc-intelligence-standalone' deleted successfully.\n"
     ]
    }
   ],
   "source": [
    "# Delete the resource\n",
    "delete_poller = client.accounts.begin_delete(resource_group_name, account_name)\n",
    "delete_poller.result()  # Wait for completion\n",
    "\n",
    "print(f\"🗑️ Resource '{account_name}' deleted successfully.\")"
   ]
  }
 ],
 "metadata": {
  "kernelspec": {
   "display_name": "di-upskilling",
   "language": "python",
   "name": "python3"
  },
  "language_info": {
   "codemirror_mode": {
    "name": "ipython",
    "version": 3
   },
   "file_extension": ".py",
   "mimetype": "text/x-python",
   "name": "python",
   "nbconvert_exporter": "python",
   "pygments_lexer": "ipython3",
   "version": "3.13.4"
  }
 },
 "nbformat": 4,
 "nbformat_minor": 5
}
