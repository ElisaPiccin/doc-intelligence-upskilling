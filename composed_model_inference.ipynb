{
 "cells": [
  {
   "cell_type": "markdown",
   "metadata": {},
   "source": [
    "## Setup"
   ]
  },
  {
   "cell_type": "markdown",
   "metadata": {},
   "source": [
    "The goal of this quickstart is to provide a reference for the most common uses cases of interacting with prebuilt models of Azure Document Intelligence (**prebuilt-read** and **prebuilt-layout**).\n",
    "\n",
    "\n",
    "Some add-on capabilities are also explored, together with the usage of **markdown output format** for the layout model.\n",
    "This option is particularly powerful when the results need to be served as context to a LLM, as demonstrated in the last section of this notebook."
   ]
  },
  {
   "cell_type": "markdown",
   "metadata": {},
   "source": [
    "### Import libraries"
   ]
  },
  {
   "cell_type": "code",
   "execution_count": 1,
   "metadata": {},
   "outputs": [],
   "source": [
    "import os\n",
    "import json\n",
    "from dotenv import load_dotenv\n",
    "from azure.core.credentials import AzureKeyCredential\n",
    "from azure.ai.documentintelligence import DocumentIntelligenceClient, DocumentIntelligenceAdministrationClient\n",
    "from azure.ai.documentintelligence.models import AnalyzeResult\n",
    "from azure.ai.documentintelligence.models import AnalyzeDocumentRequest\n",
    "from azure.ai.documentintelligence.models import DocumentAnalysisFeature\n",
    "from azure.ai.documentintelligence.models import AnalyzeOutputOption\n",
    "# import base64\n",
    "import pandas as pd"
   ]
  },
  {
   "cell_type": "code",
   "execution_count": 2,
   "metadata": {},
   "outputs": [
    {
     "name": "stdout",
     "output_type": "stream",
     "text": [
      "1.0.2\n"
     ]
    }
   ],
   "source": [
    "# check the version of the azure-ai-documentintelligence package\n",
    "import importlib.metadata\n",
    "print(importlib.metadata.version(\"azure-ai-documentintelligence\"))"
   ]
  },
  {
   "cell_type": "markdown",
   "metadata": {},
   "source": [
    "### Document Intelligence client"
   ]
  },
  {
   "cell_type": "code",
   "execution_count": 3,
   "metadata": {},
   "outputs": [
    {
     "data": {
      "text/plain": [
       "True"
      ]
     },
     "execution_count": 3,
     "metadata": {},
     "output_type": "execute_result"
    }
   ],
   "source": [
    "# Load environment variables from .env file\n",
    "load_dotenv(override=True)"
   ]
  },
  {
   "cell_type": "code",
   "execution_count": 4,
   "metadata": {},
   "outputs": [
    {
     "name": "stdout",
     "output_type": "stream",
     "text": [
      "Current endpoint: https://westus2.api.cognitive.microsoft.com/\n"
     ]
    }
   ],
   "source": [
    "# Be aware if your deployment is single-service (Azure Document Intelligence resource) or multi-service (Azure AI Services resource)\n",
    "azure_docintelligence_endpoint = os.environ.get('AZURE_DOCUMENT_INTELLIGENCE_ENDPOINT')\n",
    "azure_docintelligence_key = os.environ.get('AZURE_DOCUMENT_INTELLIGENCE_KEY')\n",
    "print(f'Current endpoint: {azure_docintelligence_endpoint}')"
   ]
  },
  {
   "cell_type": "code",
   "execution_count": 5,
   "metadata": {},
   "outputs": [],
   "source": [
    "document_intelligence_client = DocumentIntelligenceClient(\n",
    "    endpoint=azure_docintelligence_endpoint, \n",
    "    credential=AzureKeyCredential(azure_docintelligence_key),\n",
    "    # api_version=\"2024-11-30\" # v4.0 (default)\n",
    ")"
   ]
  },
  {
   "cell_type": "markdown",
   "metadata": {},
   "source": [
    "### Document Intelligence admin client"
   ]
  },
  {
   "cell_type": "code",
   "execution_count": 6,
   "metadata": {},
   "outputs": [],
   "source": [
    "document_intelligence_admin_client = DocumentIntelligenceAdministrationClient(\n",
    "    endpoint=azure_docintelligence_endpoint, \n",
    "    credential=AzureKeyCredential(azure_docintelligence_key),\n",
    "    api_version=\"2024-11-30\" # v4.0 (default)\n",
    ")"
   ]
  },
  {
   "cell_type": "code",
   "execution_count": 7,
   "metadata": {},
   "outputs": [
    {
     "data": {
      "text/plain": [
       "{'customDocumentModels': {'count': 3, 'limit': 20000}, 'customNeuralDocumentModelBuilds': {'used': 0, 'quota': 20, 'quotaResetDateTime': '2025-07-01T00:00:00Z'}}"
      ]
     },
     "execution_count": 7,
     "metadata": {},
     "output_type": "execute_result"
    }
   ],
   "source": [
    "document_intelligence_admin_client.get_resource_details()"
   ]
  },
  {
   "cell_type": "markdown",
   "metadata": {},
   "source": [
    "## Classify document"
   ]
  },
  {
   "cell_type": "code",
   "execution_count": 8,
   "metadata": {},
   "outputs": [],
   "source": [
    "# Read the local file in binary mode\n",
    "with open(\"composed_model/f1040_7.pdf\", \"rb\") as file:\n",
    "    poller = document_intelligence_client.begin_analyze_document(\n",
    "        model_id=\"ComposeModel\",\n",
    "        body=file\n",
    "    )"
   ]
  },
  {
   "cell_type": "code",
   "execution_count": 9,
   "metadata": {},
   "outputs": [],
   "source": [
    "# Returns: The deserialized resource of the long running operation, if one is available\n",
    "result: AnalyzeResult = poller.result(timeout=1000)"
   ]
  },
  {
   "cell_type": "code",
   "execution_count": 10,
   "metadata": {},
   "outputs": [],
   "source": [
    "# output result to json file\n",
    "with open(\"composed_model/f1040_7.json\", \"w\") as f:\n",
    "    json.dump(result.as_dict(), f, indent=2)"
   ]
  },
  {
   "cell_type": "code",
   "execution_count": 11,
   "metadata": {},
   "outputs": [
    {
     "name": "stdout",
     "output_type": "stream",
     "text": [
      "Document type: 1040Form (confidence: 0.812)\n"
     ]
    }
   ],
   "source": [
    "# docType and confidence are available for implementing confidence-based routing\n",
    "for document in result[\"documents\"]:\n",
    "    document_type = document[\"docType\"]\n",
    "    document_type_confidence = document[\"confidence\"]\n",
    "    print(f\"Document type: {document_type} (confidence: {document_type_confidence})\")"
   ]
  },
  {
   "cell_type": "code",
   "execution_count": null,
   "metadata": {},
   "outputs": [
    {
     "name": "stdout",
     "output_type": "stream",
     "text": [
      "{\n",
      "  \"FirstName\": \"{'type': 'string', 'valueString': 'Arshavin', 'content': 'Arshavin', 'boundingRegions': [{'pageNumber': 1, 'polygon': [0.505, 1.595, 0.995, 1.595, 0.995, 1.715, 0.505, 1.715]}], 'confidence': 0.995, 'spans': [{'offset': 632, 'length': 8}]}\",\n",
      "  \"LastName\": \"{'type': 'string', 'valueString': 'Andrea', 'content': 'Andrea', 'boundingRegions': [{'pageNumber': 1, 'polygon': [3.325, 1.6, 3.715, 1.6, 3.715, 1.71, 3.325, 1.71]}], 'confidence': 0.995, 'spans': [{'offset': 641, 'length': 6}]}\",\n",
      "  \"State\": \"{'type': 'string', 'valueString': 'PA', 'content': 'PA', 'boundingRegions': [{'pageNumber': 1, 'polygon': [5.065, 2.605, 5.23, 2.605, 5.23, 2.71, 5.065, 2.71]}], 'confidence': 0.995, 'spans': [{'offset': 1000, 'length': 2}]}\",\n",
      "  \"City\": \"{'type': 'string', 'valueString': 'Philadelphia', 'content': 'Philadelphia', 'boundingRegions': [{'pageNumber': 1, 'polygon': [0.505, 2.595, 1.175, 2.595, 1.175, 2.73, 0.505, 2.73]}], 'confidence': 0.995, 'spans': [{'offset': 981, 'length': 12}]}\"\n",
      "}\n"
     ]
    }
   ],
   "source": [
    "#for each field in the trained custom extraction model, a dedicated confidence score is available\n",
    "for document in result[\"documents\"]:\n",
    "    print(json.dumps(document[\"fields\"], indent=2, default=str))"
   ]
  },
  {
   "cell_type": "code",
   "execution_count": null,
   "metadata": {},
   "outputs": [],
   "source": []
  }
 ],
 "metadata": {
  "kernelspec": {
   "display_name": "di-upskilling",
   "language": "python",
   "name": "python3"
  },
  "language_info": {
   "codemirror_mode": {
    "name": "ipython",
    "version": 3
   },
   "file_extension": ".py",
   "mimetype": "text/x-python",
   "name": "python",
   "nbconvert_exporter": "python",
   "pygments_lexer": "ipython3",
   "version": "3.13.4"
  }
 },
 "nbformat": 4,
 "nbformat_minor": 2
}
