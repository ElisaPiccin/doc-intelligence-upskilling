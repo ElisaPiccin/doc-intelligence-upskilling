{
 "cells": [
  {
   "cell_type": "markdown",
   "metadata": {},
   "source": [
    "## Setup"
   ]
  },
  {
   "cell_type": "markdown",
   "metadata": {},
   "source": [
    "The goal of this quickstart is to provide a reference for the most common uses cases of interacting with prebuilt models of Azure Document Intelligence (**prebuilt-read** and **prebuilt-layout**).\n",
    "\n",
    "\n",
    "Some add-on capabilities are also explored, together with the usage of **markdown output format** for the layout model.\n",
    "This option is particularly powerful when the results need to be served as context to a LLM, as demonstrated in the last section of this notebook."
   ]
  },
  {
   "cell_type": "markdown",
   "metadata": {},
   "source": [
    "### Import libraries"
   ]
  },
  {
   "cell_type": "code",
   "execution_count": 1,
   "metadata": {},
   "outputs": [],
   "source": [
    "import os\n",
    "from dotenv import load_dotenv\n",
    "from azure.core.credentials import AzureKeyCredential\n",
    "from azure.ai.documentintelligence import DocumentIntelligenceClient\n",
    "from azure.ai.documentintelligence.models import AnalyzeResult\n",
    "from azure.ai.documentintelligence.models import AnalyzeDocumentRequest\n",
    "from azure.ai.documentintelligence.models import DocumentAnalysisFeature\n",
    "# import base64\n",
    "import pandas as pd"
   ]
  },
  {
   "cell_type": "markdown",
   "metadata": {},
   "source": [
    "### Document Intelligence client"
   ]
  },
  {
   "cell_type": "code",
   "execution_count": 2,
   "metadata": {},
   "outputs": [
    {
     "data": {
      "text/plain": [
       "True"
      ]
     },
     "execution_count": 2,
     "metadata": {},
     "output_type": "execute_result"
    }
   ],
   "source": [
    "# Load environment variables from .env file\n",
    "load_dotenv(override=True)"
   ]
  },
  {
   "cell_type": "code",
   "execution_count": 3,
   "metadata": {},
   "outputs": [
    {
     "name": "stdout",
     "output_type": "stream",
     "text": [
      "Current endpoint: https://ep-di-standalone.cognitiveservices.azure.com\n"
     ]
    }
   ],
   "source": [
    "# Be aware if your deployment is single-service (Azure Document Intelligence resource) or multi-service (Azure AI Services resource)\n",
    "azure_docintelligence_endpoint = os.environ.get('AZURE_DOCUMENT_INTELLIGENCE_ENDPOINT')\n",
    "azure_docintelligence_key = os.environ.get('AZURE_DOCUMENT_INTELLIGENCE_KEY')\n",
    "print(f'Current endpoint: {azure_docintelligence_endpoint}')"
   ]
  },
  {
   "cell_type": "code",
   "execution_count": 4,
   "metadata": {},
   "outputs": [],
   "source": [
    "document_intelligence_client = DocumentIntelligenceClient(\n",
    "    endpoint=azure_docintelligence_endpoint, \n",
    "    credential=AzureKeyCredential(azure_docintelligence_key),\n",
    "    # api_version=\"2024-11-30\" # v4.0 (default)\n",
    ")"
   ]
  },
  {
   "cell_type": "markdown",
   "metadata": {},
   "source": [
    "## Sample document"
   ]
  },
  {
   "cell_type": "code",
   "execution_count": 5,
   "metadata": {},
   "outputs": [],
   "source": [
    "# a lot of test files in different formats are available in this repo:\n",
    "# https://github.com/Azure-Samples/cognitive-services-REST-api-samples/tree/master/curl/form-recognizer"
   ]
  },
  {
   "cell_type": "code",
   "execution_count": 6,
   "metadata": {},
   "outputs": [],
   "source": [
    "# for an example of how to use a local file, see the Prebuilt-layout --> Key-value pairs section"
   ]
  },
  {
   "cell_type": "code",
   "execution_count": 7,
   "metadata": {},
   "outputs": [],
   "source": [
    "# get the document file from a URL\n",
    "formUrl = \"https://raw.githubusercontent.com/Azure-Samples/cognitive-services-REST-api-samples/master/curl/form-recognizer/sample-layout.pdf\""
   ]
  },
  {
   "cell_type": "code",
   "execution_count": 8,
   "metadata": {},
   "outputs": [],
   "source": [
    "#formUrl = \"https://raw.githubusercontent.com/Azure-Samples/cognitive-services-REST-api-samples/master/curl/form-recognizer/invoice-logic-apps-tutorial.pdf\""
   ]
  },
  {
   "cell_type": "code",
   "execution_count": 9,
   "metadata": {},
   "outputs": [],
   "source": [
    "#formUrl = \"https://raw.githubusercontent.com/Azure-Samples/cognitive-services-REST-api-samples/master/curl/form-recognizer/invoice_sample.jpg\""
   ]
  },
  {
   "cell_type": "markdown",
   "metadata": {},
   "source": [
    "## Analyze document"
   ]
  },
  {
   "cell_type": "markdown",
   "metadata": {},
   "source": [
    "### Prebuilt-read"
   ]
  },
  {
   "cell_type": "code",
   "execution_count": 41,
   "metadata": {},
   "outputs": [],
   "source": [
    "poller = document_intelligence_client.begin_analyze_document(\n",
    "    model_id=\"prebuilt-read\", body=AnalyzeDocumentRequest(url_source=formUrl\n",
    "))"
   ]
  },
  {
   "cell_type": "code",
   "execution_count": 42,
   "metadata": {},
   "outputs": [
    {
     "data": {
      "text/plain": [
       "<azure.ai.documentintelligence._operations._patch.AnalyzeDocumentLROPoller at 0x2acb70078e0>"
      ]
     },
     "execution_count": 42,
     "metadata": {},
     "output_type": "execute_result"
    }
   ],
   "source": [
    "# An instance of AnalyzeDocumentLROPoller that returns AnalyzeResult. \n",
    "# (LRO = long-running operation)\n",
    "poller"
   ]
  },
  {
   "cell_type": "code",
   "execution_count": 43,
   "metadata": {},
   "outputs": [],
   "source": [
    "# The result() method is designed to retrieve the result of a long-running operation (LRO), \n",
    "# which is a common pattern in cloud services where certain tasks, such as analyzing data or deploying resources, take time to complete.\n",
    "# It abstracts the complexity of polling and waiting, handling the operation's result once it is available.\n",
    "\n",
    "# Returns: The deserialized resource of the long running operation, if one is available\n",
    "result: AnalyzeResult = poller.result(timeout=1000)"
   ]
  },
  {
   "cell_type": "code",
   "execution_count": null,
   "metadata": {},
   "outputs": [],
   "source": [
    "print(result)"
   ]
  },
  {
   "cell_type": "code",
   "execution_count": null,
   "metadata": {},
   "outputs": [],
   "source": [
    "print(result.content)"
   ]
  },
  {
   "cell_type": "code",
   "execution_count": 15,
   "metadata": {},
   "outputs": [
    {
     "name": "stdout",
     "output_type": "stream",
     "text": [
      "['api_version', 'as_dict', 'clear', 'content', 'content_format', 'copy', 'documents', 'figures', 'get', 'items', 'key_value_pairs', 'keys', 'languages', 'model_id', 'pages', 'paragraphs', 'pop', 'popitem', 'sections', 'setdefault', 'string_index_type', 'styles', 'tables', 'update', 'values', 'warnings']\n"
     ]
    }
   ],
   "source": [
    "# print dir(result) ignoring hidden attributes\n",
    "print([attr for attr in dir(result) if not attr.startswith('_')])"
   ]
  },
  {
   "cell_type": "code",
   "execution_count": 16,
   "metadata": {},
   "outputs": [
    {
     "name": "stdout",
     "output_type": "stream",
     "text": [
      "I haven't found any tables.\n"
     ]
    }
   ],
   "source": [
    "# experiment with prebuilt read model: it does not return tables\n",
    "if result.tables:\n",
    "    print(f\"I've found {len(result.tables)} tables.\")\n",
    "else:\n",
    "    print(\"I haven't found any tables.\")"
   ]
  },
  {
   "cell_type": "markdown",
   "metadata": {},
   "source": [
    "### Prebuilt-layout"
   ]
  },
  {
   "cell_type": "code",
   "execution_count": 17,
   "metadata": {},
   "outputs": [],
   "source": [
    "poller = document_intelligence_client.begin_analyze_document(\n",
    "    model_id=\"prebuilt-layout\", \n",
    "    body=AnalyzeDocumentRequest(url_source=formUrl) # the parameter urlSource or base64Source is required\n",
    ")"
   ]
  },
  {
   "cell_type": "code",
   "execution_count": 18,
   "metadata": {},
   "outputs": [],
   "source": [
    "# The result() method is designed to retrieve the result of a long-running operation (LRO), \n",
    "# which is a common pattern in cloud services where certain tasks, such as analyzing data or deploying resources, take time to complete.\n",
    "# It abstracts the complexity of polling and waiting, handling the operation's result once it is available.\n",
    "\n",
    "# Returns: The deserialized resource of the long running operation, if one is available\n",
    "result: AnalyzeResult = poller.result(timeout=1000)"
   ]
  },
  {
   "cell_type": "code",
   "execution_count": null,
   "metadata": {},
   "outputs": [],
   "source": [
    "print(result)"
   ]
  },
  {
   "cell_type": "code",
   "execution_count": 20,
   "metadata": {},
   "outputs": [
    {
     "data": {
      "text/plain": [
       "azure.ai.documentintelligence.models._models.AnalyzeResult"
      ]
     },
     "execution_count": 20,
     "metadata": {},
     "output_type": "execute_result"
    }
   ],
   "source": [
    "type(result)"
   ]
  },
  {
   "cell_type": "code",
   "execution_count": 21,
   "metadata": {},
   "outputs": [
    {
     "data": {
      "text/plain": [
       "'prebuilt-layout'"
      ]
     },
     "execution_count": 21,
     "metadata": {},
     "output_type": "execute_result"
    }
   ],
   "source": [
    "result.model_id"
   ]
  },
  {
   "cell_type": "code",
   "execution_count": 22,
   "metadata": {},
   "outputs": [
    {
     "data": {
      "text/plain": [
       "'2024-11-30'"
      ]
     },
     "execution_count": 22,
     "metadata": {},
     "output_type": "execute_result"
    }
   ],
   "source": [
    "result.api_version"
   ]
  },
  {
   "cell_type": "code",
   "execution_count": 23,
   "metadata": {},
   "outputs": [
    {
     "name": "stdout",
     "output_type": "stream",
     "text": [
      "UNITED STATES SECURITIES AND EXCHANGE COMMISSION Washington, D.C. 20549\n",
      "FORM 10-Q\n",
      "☐ ☒ :selected: QUARTERLY REPORT PURSUANT TO SECTION 13 OR 15(d) OF THE SECURITIES EXCHANGE ACT OF 1934 For the Quarterly Period Ended March 31, 2020 OR :unselected: TRANSITION REPORT PURSUANT TO SECTION 13 OR 15(d) OF THE SECURITIES EXCHANGE ACT OF 1934 For the Transition Period From to\n",
      "Commission File Number 001-37845\n",
      "MICROSOFT CORPORATION\n",
      "WASHINGTON (STATE OF INCORPORATION) ONE MICROSOFT WAY, REDMOND, WASHINGTON 98052-6399 (425) 882-8080 www.microsoft.com/investor\n",
      "91-1144442 (I.R.S. ID)\n",
      "Securities registered pursuant to Section 12(b) of the Act:\n",
      "Title of each class\n",
      "Trading Symbol\n",
      "Name of exchange on which registered\n",
      "Common stock, $0.00000625 par value per share\n",
      "MSFT\n",
      "NASDAQ\n",
      "2.125% Notes due 2021\n",
      "MSFT\n",
      "NASDAQ\n",
      "3.125% Notes due 2028\n",
      "MSFT\n",
      "NASDAQ\n",
      "2.625% Notes due 2033\n",
      "MSFT\n",
      "NASDAQ\n",
      "Securities registered pursuant to Section 12(g) of the Act: NONE\n",
      "Indicate by check mark whether the registrant (1) has filed all reports required to be filed by Section 13 or 15(d) of the Securities Exchange Act of 1934 during the preceding 12 months (or for such shorter period that the registrant was required to file such reports), and (2) has been subject to such filing requirements for the past 90 days. Yes :unselected: No :selected:\n",
      "Indicate by check mark whether the registrant has submitted electronically every Interactive Data File required to be submitted pursuant to Rule 405 of Regulation S-T (§232.405 of this chapter) during the preceding 12 months (or for such shorter period that the registrant was required to submit such files). :selected: Yes :unselected: No\n",
      "Indicate by check mark whether the registrant is a large accelerated filer, an accelerated filer, a non-accelerated filer, a smaller reporting company, or an emerging growth company. See the definitions of \"large accelerated filer,\" \"accelerated filer,\" \"smaller reporting company,\" and \"emerging growth company\" in Rule 12b-2 of the Exchange Act. :selected: Large accelerated filer Non-accelerated filer :unselected: :unselected: Accelerated filer Smaller reporting company Emerging growth company :unselected: :unselected:\n",
      "If an emerging growth company, indicate by check mark if the registrant has elected not to use the extended transition period for complying with any new or revised financial accounting standards provided pursuant to Section 13(a) of the Exchange Act. :unselected:\n",
      "Indicate by check mark whether the registrant is a shell company (as defined in Rule 12b-2 of the Exchange Act). Yes :unselected: No :selected:\n",
      "Indicate the number of shares outstanding of each of the issuer's classes of common stock, as of the latest practicable date.\n",
      "Class\n",
      "Outstanding as of April 24, 2020\n",
      "Common Stock, $0.00000625 par value per share\n",
      "7,583,440,247 shares\n"
     ]
    }
   ],
   "source": [
    "print(result.content)"
   ]
  },
  {
   "cell_type": "code",
   "execution_count": 24,
   "metadata": {},
   "outputs": [
    {
     "name": "stdout",
     "output_type": "stream",
     "text": [
      "I've found 2 tables.\n"
     ]
    }
   ],
   "source": [
    "if result.tables:\n",
    "    print(f\"I've found {len(result.tables)} tables.\")"
   ]
  },
  {
   "cell_type": "markdown",
   "metadata": {},
   "source": [
    "#### Tables parsing"
   ]
  },
  {
   "cell_type": "code",
   "execution_count": null,
   "metadata": {},
   "outputs": [],
   "source": [
    "if result.tables:\n",
    "    for table_idx, table in enumerate(result.tables):\n",
    "        print(\n",
    "            f\"Table # {table_idx} has {table.row_count} rows and \"\n",
    "            f\"{table.column_count} columns\"\n",
    "        )\n",
    "        if table.bounding_regions:\n",
    "            for region in table.bounding_regions:\n",
    "                print(\n",
    "                    f\"Table # {table_idx} location on page: {region.page_number} is {region.polygon}\"\n",
    "                )\n",
    "        for cell in table.cells:\n",
    "            print(\n",
    "                f\"...Cell[{cell.row_index}][{cell.column_index}] has text '{cell.content}'\"\n",
    "            )\n",
    "            if cell.bounding_regions:\n",
    "                for region in cell.bounding_regions:\n",
    "                    print(\n",
    "                        f\"...content on page {region.page_number} is within bounding polygon '{region.polygon}'\"\n",
    "                    )"
   ]
  },
  {
   "cell_type": "code",
   "execution_count": 26,
   "metadata": {},
   "outputs": [
    {
     "name": "stdout",
     "output_type": "stream",
     "text": [
      "Table # 0 has 4 rows and 3 columns\n",
      "Table # 1 has 1 rows and 2 columns\n"
     ]
    }
   ],
   "source": [
    "# table to dataframe\n",
    "if result.tables:\n",
    "    # list to store all dataframes\n",
    "    dataframes = []  \n",
    "    for table_idx, table in enumerate(result.tables):\n",
    "        # count rows and columns, considering the header row\n",
    "        print(\n",
    "            f\"Table # {table_idx} has {table.row_count - 1} rows and \"\n",
    "            f\"{table.column_count} columns\"\n",
    "        )\n",
    "        # initialize an empty dataframe with the correct dimensions\n",
    "        df = pd.DataFrame(index=range(table.row_count), columns=range(table.column_count))\n",
    "        for cell in table.cells:\n",
    "            # Assign the cell content to the correct location in the dataframe\n",
    "            df.at[cell.row_index, cell.column_index] = cell.content        \n",
    "        # promote the first row as column headers\n",
    "        df.columns = df.iloc[0]  # Set the first row as the header\n",
    "        df = df[1:].reset_index(drop=True)  # Drop the first row and reset the index\n",
    "        \n",
    "        # add the current dataframe to the list of dataframes\n",
    "        dataframes.append(df)  "
   ]
  },
  {
   "cell_type": "code",
   "execution_count": 27,
   "metadata": {},
   "outputs": [
    {
     "data": {
      "text/plain": [
       "2"
      ]
     },
     "execution_count": 27,
     "metadata": {},
     "output_type": "execute_result"
    }
   ],
   "source": [
    "len(dataframes)"
   ]
  },
  {
   "cell_type": "code",
   "execution_count": 28,
   "metadata": {},
   "outputs": [
    {
     "data": {
      "application/vnd.microsoft.datawrangler.viewer.v0+json": {
       "columns": [
        {
         "name": "index",
         "rawType": "int64",
         "type": "integer"
        },
        {
         "name": "Title of each class",
         "rawType": "object",
         "type": "string"
        },
        {
         "name": "Trading Symbol",
         "rawType": "object",
         "type": "string"
        },
        {
         "name": "Name of exchange on which registered",
         "rawType": "object",
         "type": "string"
        }
       ],
       "conversionMethod": "pd.DataFrame",
       "ref": "3555a37a-5a58-4972-a7ec-8f5b0d0f5c7e",
       "rows": [
        [
         "0",
         "Common stock, $0.00000625 par value per share",
         "MSFT",
         "NASDAQ"
        ],
        [
         "1",
         "2.125% Notes due 2021",
         "MSFT",
         "NASDAQ"
        ],
        [
         "2",
         "3.125% Notes due 2028",
         "MSFT",
         "NASDAQ"
        ],
        [
         "3",
         "2.625% Notes due 2033",
         "MSFT",
         "NASDAQ"
        ]
       ],
       "shape": {
        "columns": 3,
        "rows": 4
       }
      },
      "text/html": [
       "<div>\n",
       "<style scoped>\n",
       "    .dataframe tbody tr th:only-of-type {\n",
       "        vertical-align: middle;\n",
       "    }\n",
       "\n",
       "    .dataframe tbody tr th {\n",
       "        vertical-align: top;\n",
       "    }\n",
       "\n",
       "    .dataframe thead th {\n",
       "        text-align: right;\n",
       "    }\n",
       "</style>\n",
       "<table border=\"1\" class=\"dataframe\">\n",
       "  <thead>\n",
       "    <tr style=\"text-align: right;\">\n",
       "      <th></th>\n",
       "      <th>Title of each class</th>\n",
       "      <th>Trading Symbol</th>\n",
       "      <th>Name of exchange on which registered</th>\n",
       "    </tr>\n",
       "  </thead>\n",
       "  <tbody>\n",
       "    <tr>\n",
       "      <th>0</th>\n",
       "      <td>Common stock, $0.00000625 par value per share</td>\n",
       "      <td>MSFT</td>\n",
       "      <td>NASDAQ</td>\n",
       "    </tr>\n",
       "    <tr>\n",
       "      <th>1</th>\n",
       "      <td>2.125% Notes due 2021</td>\n",
       "      <td>MSFT</td>\n",
       "      <td>NASDAQ</td>\n",
       "    </tr>\n",
       "    <tr>\n",
       "      <th>2</th>\n",
       "      <td>3.125% Notes due 2028</td>\n",
       "      <td>MSFT</td>\n",
       "      <td>NASDAQ</td>\n",
       "    </tr>\n",
       "    <tr>\n",
       "      <th>3</th>\n",
       "      <td>2.625% Notes due 2033</td>\n",
       "      <td>MSFT</td>\n",
       "      <td>NASDAQ</td>\n",
       "    </tr>\n",
       "  </tbody>\n",
       "</table>\n",
       "</div>"
      ],
      "text/plain": [
       "0                            Title of each class Trading Symbol  \\\n",
       "0  Common stock, $0.00000625 par value per share           MSFT   \n",
       "1                          2.125% Notes due 2021           MSFT   \n",
       "2                          3.125% Notes due 2028           MSFT   \n",
       "3                          2.625% Notes due 2033           MSFT   \n",
       "\n",
       "0 Name of exchange on which registered  \n",
       "0                               NASDAQ  \n",
       "1                               NASDAQ  \n",
       "2                               NASDAQ  \n",
       "3                               NASDAQ  "
      ]
     },
     "execution_count": 28,
     "metadata": {},
     "output_type": "execute_result"
    }
   ],
   "source": [
    "dataframes[0]"
   ]
  },
  {
   "cell_type": "markdown",
   "metadata": {},
   "source": [
    "#### Key-value pairs"
   ]
  },
  {
   "cell_type": "code",
   "execution_count": 45,
   "metadata": {},
   "outputs": [],
   "source": [
    "# Read the local file in binary mode\n",
    "with open('assets/simple-invoice.png', \"rb\") as file:\n",
    "    poller = document_intelligence_client.begin_analyze_document(\n",
    "        model_id=\"prebuilt-layout\",\n",
    "        body=file,  # Pass the file as the 'body' parameter\n",
    "        features=[DocumentAnalysisFeature.KEY_VALUE_PAIRS],\n",
    "        content_type=\"image/png\",  # default \"application/json\", \n",
    "                                         # other examples: \"image/jpeg\", \"image/png\", \"application/pdf\"\n",
    "                                         # \"application/octet-stream\" for flexible usage dealing with various file types (it is a safe default but may not provide the best performance for specific file types)\n",
    "    )\n"
   ]
  },
  {
   "cell_type": "code",
   "execution_count": 46,
   "metadata": {},
   "outputs": [
    {
     "name": "stdout",
     "output_type": "stream",
     "text": [
      "I've found 7 key-value pairs.\n"
     ]
    }
   ],
   "source": [
    "result: AnalyzeResult = poller.result()\n",
    "print(f\"I've found {len(result.key_value_pairs)} key-value pairs.\")"
   ]
  },
  {
   "cell_type": "code",
   "execution_count": 47,
   "metadata": {},
   "outputs": [
    {
     "data": {
      "text/plain": [
       "[{'key': {'content': 'Address:', 'boundingRegions': [{'pageNumber': 1, 'polygon': [186, 353, 329, 353, 329, 385, 186, 384]}], 'spans': [{'offset': 8, 'length': 8}]}, 'value': {'content': '1 Redmond way Suite\\n6000 Redmond, WA\\n99243', 'boundingRegions': [{'pageNumber': 1, 'polygon': [186, 397, 508, 397, 508, 519, 186, 519]}], 'spans': [{'offset': 17, 'length': 42}]}, 'confidence': 0.997},\n",
       " {'key': {'content': 'Invoice For:', 'boundingRegions': [{'pageNumber': 1, 'polygon': [1031, 351, 1201, 351, 1201, 386, 1031, 386]}], 'spans': [{'offset': 60, 'length': 12}]}, 'value': {'content': 'Microsoft\\n1020 Enterprise Way\\nSunnayvale, CA 87659', 'boundingRegions': [{'pageNumber': 1, 'polygon': [1220, 351, 1568, 351, 1568, 480, 1220, 480]}], 'spans': [{'offset': 73, 'length': 50}]}, 'confidence': 0.997},\n",
       " {'key': {'content': 'Invoice Number', 'boundingRegions': [{'pageNumber': 1, 'polygon': [123, 671, 374, 672, 374, 706, 123, 706]}], 'spans': [{'offset': 124, 'length': 14}]}, 'value': {'content': '34278587', 'boundingRegions': [{'pageNumber': 1, 'polygon': [124, 797, 272, 796, 272, 830, 124, 830]}], 'spans': [{'offset': 184, 'length': 8}]}, 'confidence': 0.997},\n",
       " {'key': {'content': 'Invoice Date', 'boundingRegions': [{'pageNumber': 1, 'polygon': [455, 673, 650, 672, 650, 705, 455, 705]}], 'spans': [{'offset': 139, 'length': 12}]}, 'value': {'content': '6/18/2017', 'boundingRegions': [{'pageNumber': 1, 'polygon': [455, 797, 603, 797, 603, 830, 455, 831]}], 'spans': [{'offset': 193, 'length': 9}]}, 'confidence': 0.996},\n",
       " {'key': {'content': 'Invoice Due Date', 'boundingRegions': [{'pageNumber': 1, 'polygon': [784, 672, 1051, 671, 1051, 705, 784, 706]}], 'spans': [{'offset': 152, 'length': 16}]}, 'value': {'content': '6/24/2017', 'boundingRegions': [{'pageNumber': 1, 'polygon': [784, 797, 932, 796, 932, 831, 784, 831]}], 'spans': [{'offset': 203, 'length': 9}]}, 'confidence': 0.997},\n",
       " {'key': {'content': 'Charges', 'boundingRegions': [{'pageNumber': 1, 'polygon': [1114, 673, 1247, 673, 1247, 708, 1114, 707]}], 'spans': [{'offset': 169, 'length': 7}]}, 'value': {'content': '$56,651.49\\nPT', 'boundingRegions': [{'pageNumber': 1, 'polygon': [1265, 798, 1506, 797, 1506, 832, 1265, 833]}], 'spans': [{'offset': 213, 'length': 13}]}, 'confidence': 0.971},\n",
       " {'key': {'content': 'VAT ID', 'boundingRegions': [{'pageNumber': 1, 'polygon': [1443, 671, 1553, 672, 1553, 704, 1443, 704]}], 'spans': [{'offset': 177, 'length': 6}]}, 'confidence': 0.997}]"
      ]
     },
     "execution_count": 47,
     "metadata": {},
     "output_type": "execute_result"
    }
   ],
   "source": [
    "# verbose print of key-value pairs\n",
    "result.key_value_pairs"
   ]
  },
  {
   "cell_type": "code",
   "execution_count": 48,
   "metadata": {},
   "outputs": [
    {
     "name": "stdout",
     "output_type": "stream",
     "text": [
      "----Key-value pairs found in document----\n",
      "Key: Address:, \n",
      "Value: 1 Redmond way Suite\n",
      "6000 Redmond, WA\n",
      "99243\n",
      "--\n",
      "Key: Invoice For:, \n",
      "Value: Microsoft\n",
      "1020 Enterprise Way\n",
      "Sunnayvale, CA 87659\n",
      "--\n",
      "Key: Invoice Number, \n",
      "Value: 34278587\n",
      "--\n",
      "Key: Invoice Date, \n",
      "Value: 6/18/2017\n",
      "--\n",
      "Key: Invoice Due Date, \n",
      "Value: 6/24/2017\n",
      "--\n",
      "Key: Charges, \n",
      "Value: $56,651.49\n",
      "PT\n",
      "--\n",
      "Key: VAT ID, \n",
      "Value: None\n",
      "--\n"
     ]
    }
   ],
   "source": [
    "print(\"----Key-value pairs found in document----\")\n",
    "if result.key_value_pairs:\n",
    "    for kv_pair in result.key_value_pairs:\n",
    "        key = kv_pair.key.content if kv_pair.key else \"None\"\n",
    "        value = kv_pair.value.content if kv_pair.value else \"None\"\n",
    "        print(f\"Key: {key}, \\nValue: {value}\")\n",
    "        print(\"--\")\n"
   ]
  },
  {
   "cell_type": "markdown",
   "metadata": {},
   "source": [
    "#### Markdown output"
   ]
  },
  {
   "cell_type": "code",
   "execution_count": 85,
   "metadata": {},
   "outputs": [],
   "source": [
    "poller = document_intelligence_client.begin_analyze_document(\n",
    "    \"prebuilt-layout\",\n",
    "    body=AnalyzeDocumentRequest(url_source=formUrl),\n",
    "    output_content_format=\"markdown\" # default \"text\"\n",
    ")"
   ]
  },
  {
   "cell_type": "code",
   "execution_count": 86,
   "metadata": {},
   "outputs": [
    {
     "name": "stdout",
     "output_type": "stream",
     "text": [
      "https://raw.githubusercontent.com/Azure-Samples/cognitive-services-REST-api-samples/master/curl/form-recognizer/sample-layout.pdf\n"
     ]
    }
   ],
   "source": [
    "print(formUrl)"
   ]
  },
  {
   "cell_type": "code",
   "execution_count": 87,
   "metadata": {},
   "outputs": [
    {
     "name": "stdout",
     "output_type": "stream",
     "text": [
      "File name: sample-layout.pdf\n"
     ]
    }
   ],
   "source": [
    "# retrieve the file name from the URL\n",
    "file_name = os.path.basename(formUrl)\n",
    "print(f\"File name: {file_name}\")\n",
    "# file name without extension\n",
    "file_name_without_ext = os.path.splitext(file_name)[0]"
   ]
  },
  {
   "cell_type": "code",
   "execution_count": 88,
   "metadata": {},
   "outputs": [],
   "source": [
    "result: AnalyzeResult = poller.result()"
   ]
  },
  {
   "cell_type": "code",
   "execution_count": 89,
   "metadata": {},
   "outputs": [
    {
     "name": "stdout",
     "output_type": "stream",
     "text": [
      "# UNITED STATES SECURITIES AND EXCHANGE COMMISSION Washington, D.C. 20549\n",
      "\n",
      "\n",
      "## FORM 10-Q\n",
      "\n",
      "☐\n",
      "☒\n",
      "☒\n",
      "QUARTERLY REPORT PURSUANT TO SECTION 13 OR 15(d) OF THE SECURITIES EXCHANGE ACT OF\n",
      "1934\n",
      "For the Quarterly Period Ended March 31, 2020\n",
      "OR\n",
      "☐\n",
      "TRANSITION REPORT PURSUANT TO SECTION 13 OR 15(d) OF THE SECURITIES EXCHANGE ACT OF\n",
      "1934\n",
      "For the Transition Period From\n",
      "to\n",
      "\n",
      "Commission File Number 001-37845\n",
      "\n",
      "\n",
      "## MICROSOFT CORPORATION\n",
      "\n",
      "WASHINGTON\n",
      "(STATE OF INCORPORATION)\n",
      "ONE MICROSOFT WAY, REDMOND, WASHINGTON 98052-6399\n",
      "(425) 882-8080\n",
      "www.microsoft.com/investor\n",
      "\n",
      "91-1144442\n",
      "(I.R.S. ID)\n",
      "\n",
      "Securities registered pursuant to Section 12(b) of the Act:\n",
      "\n",
      "\n",
      "<table>\n",
      "<tr>\n",
      "<th>Title of each class</th>\n",
      "<th>Trading Symbol</th>\n",
      "<th>Name of exchange on which registered</th>\n",
      "</tr>\n",
      "<tr>\n",
      "<td>Common stock, $0.00000625 par value per share</td>\n",
      "<td>MSFT</td>\n",
      "<td>NASDAQ</td>\n",
      "</tr>\n",
      "<tr>\n",
      "<td>2.125% Notes due 2021</td>\n",
      "<td>MSFT</td>\n",
      "<td>NASDAQ</td>\n",
      "</tr>\n",
      "<tr>\n",
      "<td>3.125% Notes due 2028</td>\n",
      "<td>MSFT</td>\n",
      "<td>NASDAQ</td>\n",
      "</tr>\n",
      "<tr>\n",
      "<td>2.625% Notes due 2033</td>\n",
      "<td>MSFT</td>\n",
      "<td>NASDAQ</td>\n",
      "</tr>\n",
      "</table>\n",
      "\n",
      "\n",
      "Securities registered pursuant to Section 12(g) of the Act:\n",
      "NONE\n",
      "\n",
      "Indicate by check mark whether the registrant (1) has filed all reports required to be filed by Section 13 or 15(d) of the Securities Exchange\n",
      "Act of 1934 during the preceding 12 months (or for such shorter period that the registrant was required to file such reports), and (2) has\n",
      "been subject to such filing requirements for the past 90 days. Yes\n",
      "☐\n",
      "No\n",
      "☒\n",
      "\n",
      "Indicate by check mark whether the registrant has submitted electronically every Interactive Data File required to be submitted pursuant to Rule\n",
      "405 of Regulation S-T (§232.405 of this chapter) during the preceding 12 months (or for such shorter period that the registrant was required to\n",
      "submit such files).\n",
      "☒\n",
      "Yes\n",
      "☐\n",
      "No\n",
      "\n",
      "Indicate by check mark whether the registrant is a large accelerated filer, an accelerated filer, a non-accelerated filer, a smaller reporting\n",
      "company, or an emerging growth company. See the definitions of \"large accelerated filer,\" \"accelerated filer,\" \"smaller reporting company,\"\n",
      "and \"emerging growth company\" in Rule 12b-2 of the Exchange Act.\n",
      "\n",
      "☒\n",
      "Large accelerated filer\n",
      "Non-accelerated filer\n",
      "☐\n",
      "\n",
      "☐\n",
      "Accelerated filer\n",
      "Smaller reporting company\n",
      "Emerging growth company\n",
      "☐\n",
      "\n",
      "☐\n",
      "\n",
      "If an emerging growth company, indicate by check mark if the registrant has elected not to use the extended transition period for complying\n",
      "with any new or revised financial accounting standards provided pursuant to Section 13(a) of the Exchange Act.\n",
      "☐\n",
      "\n",
      "Indicate by check mark whether the registrant is a shell company (as defined in Rule 12b-2 of the Exchange Act). Yes\n",
      "☐\n",
      "No\n",
      "\n",
      "☒\n",
      "\n",
      "Indicate the number of shares outstanding of each of the issuer's classes of common stock, as of the latest practicable date.\n",
      "\n",
      "\n",
      "<table>\n",
      "<tr>\n",
      "<th>Class</th>\n",
      "<th>Outstanding as of April 24, 2020</th>\n",
      "</tr>\n",
      "<tr>\n",
      "<td>Common Stock, $0.00000625 par value per share</td>\n",
      "<td>7,583,440,247 shares</td>\n",
      "</tr>\n",
      "</table>\n",
      "\n"
     ]
    }
   ],
   "source": [
    "print(result.content)"
   ]
  },
  {
   "cell_type": "code",
   "execution_count": 90,
   "metadata": {},
   "outputs": [],
   "source": [
    "# save result content to file\n",
    "with open(f\"assets/{file_name_without_ext}.md\", \"w\") as f:\n",
    "    f.write(result.content)  # Write the string content directly"
   ]
  },
  {
   "cell_type": "markdown",
   "metadata": {},
   "source": [
    "## Chat with your document (basic)"
   ]
  },
  {
   "cell_type": "code",
   "execution_count": 91,
   "metadata": {},
   "outputs": [],
   "source": [
    "from openai import AzureOpenAI"
   ]
  },
  {
   "cell_type": "code",
   "execution_count": 92,
   "metadata": {},
   "outputs": [
    {
     "name": "stdout",
     "output_type": "stream",
     "text": [
      "Current endpoint: https://epaifhub1921084884.openai.azure.com/\n"
     ]
    }
   ],
   "source": [
    "# Load environment variables from .env file\n",
    "load_dotenv(override=True)\n",
    "\n",
    "# Use your `key` and `endpoint` environment variables for Azure Document Intelligence\n",
    "azure_openai_endpoint = os.environ.get('AZURE_OPENAI_ENDPOINT')\n",
    "print(f'Current endpoint: {azure_openai_endpoint}')"
   ]
  },
  {
   "cell_type": "markdown",
   "metadata": {},
   "source": [
    "### Azure OpenAI client"
   ]
  },
  {
   "cell_type": "code",
   "execution_count": 99,
   "metadata": {},
   "outputs": [],
   "source": [
    "client = AzureOpenAI(\n",
    "  azure_endpoint = os.getenv(\"AZURE_OPENAI_ENDPOINT\"), \n",
    "  api_key=os.getenv(\"AZURE_OPENAI_KEY\"),  \n",
    "  api_version=\"2024-05-01-preview\" #\"2024-08-01-preview\"\n",
    ")"
   ]
  },
  {
   "cell_type": "markdown",
   "metadata": {},
   "source": [
    "### Prompt template"
   ]
  },
  {
   "cell_type": "code",
   "execution_count": 94,
   "metadata": {},
   "outputs": [],
   "source": [
    "question = \"What quarterly period does this form cover?\""
   ]
  },
  {
   "cell_type": "code",
   "execution_count": 95,
   "metadata": {},
   "outputs": [],
   "source": [
    "document_prompt = f\"\"\"\n",
    "Given the markdown-formatted content extracted, answer the following question using only the information contained in the content.\n",
    "---\n",
    "\n",
    "Answer concisely and factually. If the information is not present, reply: \"Not specified in the document.\"\n",
    "---\n",
    "\n",
    "Markdown Content:\n",
    "{result.content}\n",
    "---\n",
    "\n",
    "Question:\n",
    "{question}\n",
    "\"\"\""
   ]
  },
  {
   "cell_type": "markdown",
   "metadata": {},
   "source": [
    "### Chat"
   ]
  },
  {
   "cell_type": "code",
   "execution_count": 100,
   "metadata": {},
   "outputs": [
    {
     "name": "stdout",
     "output_type": "stream",
     "text": [
      "The quarterly period covered by this form is the period ended March 31, 2020.\n"
     ]
    }
   ],
   "source": [
    "document_response = client.chat.completions.create(\n",
    "    messages=[\n",
    "        {\n",
    "            \"role\": \"system\",\n",
    "            \"content\": \"You are a document understanding assistant.\",\n",
    "        },\n",
    "        {\n",
    "            \"role\": \"user\", \n",
    "            \"content\": document_prompt,\n",
    "        },\n",
    "    ],\n",
    "    model=\"gpt-4o\", \n",
    "    temperature=0.0, # for stable results\n",
    ")\n",
    "\n",
    "print(document_response.choices[0].message.content)"
   ]
  },
  {
   "cell_type": "markdown",
   "metadata": {},
   "source": [
    "### Questions generation"
   ]
  },
  {
   "cell_type": "code",
   "execution_count": 97,
   "metadata": {},
   "outputs": [],
   "source": [
    "questions_prompt = f\"\"\"\n",
    "Given the following markdown-formatted content, generate a list of 5 relevant questions that can be used to verify the correct processing and comprehension of the document by an automated pipeline.\n",
    "\n",
    "The questions could cover:\n",
    "- Document metadata and structure\n",
    "- Company information\n",
    "- Securities details\n",
    "- Compliance and filing status\n",
    "- Shares outstanding\n",
    "\n",
    "Make sure the questions are clear, factual, and refer only to the information available in the text.\n",
    "\n",
    "---\n",
    "\n",
    "Markdown Content:\n",
    "{result.content}\n",
    "\n",
    "---\n",
    "\n",
    "Now, list the questions based on the markdown content above.\n",
    "\"\"\""
   ]
  },
  {
   "cell_type": "code",
   "execution_count": 98,
   "metadata": {},
   "outputs": [
    {
     "name": "stdout",
     "output_type": "stream",
     "text": [
      "Here are five relevant questions based on the provided markdown content:\n",
      "\n",
      "1. **Document Metadata and Structure**  \n",
      "   - What is the form type of the document, and for which quarterly period is the report filed?\n",
      "\n",
      "2. **Company Information**  \n",
      "   - What is the name of the company, its state of incorporation, and its principal address as listed in the document?\n",
      "\n",
      "3. **Securities Details**  \n",
      "   - What securities are registered pursuant to Section 12(b) of the Securities Exchange Act, and what is the trading symbol and exchange for these securities?\n",
      "\n",
      "4. **Compliance and Filing Status**  \n",
      "   - Has the registrant filed all reports required by Section 13 or 15(d) of the Securities Exchange Act during the preceding 12 months, and is the registrant classified as a large accelerated filer?\n",
      "\n",
      "5. **Shares Outstanding**  \n",
      "   - As of April 24, 2020, how many shares of common stock, with a par value of $0.00000625 per share, were outstanding?\n"
     ]
    }
   ],
   "source": [
    "questions_response = client.chat.completions.create(\n",
    "    messages=[\n",
    "        {\n",
    "            \"role\": \"system\",\n",
    "            \"content\": \"You are a document understanding assistant.\",\n",
    "        },\n",
    "        {\n",
    "            \"role\": \"user\", \n",
    "            \"content\": questions_prompt,\n",
    "        },\n",
    "    ],\n",
    "    model=\"gpt-4o\", \n",
    "    temperature=0.0, # for stable results\n",
    ")\n",
    "\n",
    "print(questions_response.choices[0].message.content)"
   ]
  }
 ],
 "metadata": {
  "kernelspec": {
   "display_name": "di-upskilling",
   "language": "python",
   "name": "python3"
  },
  "language_info": {
   "codemirror_mode": {
    "name": "ipython",
    "version": 3
   },
   "file_extension": ".py",
   "mimetype": "text/x-python",
   "name": "python",
   "nbconvert_exporter": "python",
   "pygments_lexer": "ipython3",
   "version": "3.10.16"
  }
 },
 "nbformat": 4,
 "nbformat_minor": 2
}
