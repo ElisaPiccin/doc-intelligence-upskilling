{
 "cells": [
  {
   "cell_type": "markdown",
   "metadata": {},
   "source": [
    "## Setup"
   ]
  },
  {
   "cell_type": "markdown",
   "metadata": {},
   "source": [
    "The goal of this quickstart is to provide a reference for the most common uses cases of interacting with prebuilt models of Azure Document Intelligence (**prebuilt-read** and **prebuilt-layout**).\n",
    "\n",
    "\n",
    "Some add-on capabilities are also explored, together with the usage of **markdown output format** for the layout model.\n",
    "This option is particularly powerful when the results need to be served as context to a LLM, as demonstrated in the last section of this notebook."
   ]
  },
  {
   "cell_type": "markdown",
   "metadata": {},
   "source": [
    "### Import libraries"
   ]
  },
  {
   "cell_type": "code",
   "execution_count": null,
   "metadata": {},
   "outputs": [],
   "source": [
    "import os\n",
    "from dotenv import load_dotenv\n",
    "from azure.core.credentials import AzureKeyCredential\n",
    "from azure.ai.documentintelligence import DocumentIntelligenceClient\n",
    "from azure.ai.documentintelligence.models import AnalyzeResult\n",
    "from azure.ai.documentintelligence.models import AnalyzeDocumentRequest\n",
    "from azure.ai.documentintelligence.models import DocumentAnalysisFeature\n",
    "from azure.ai.documentintelligence.models import AnalyzeOutputOption\n",
    "# import base64\n",
    "import pandas as pd"
   ]
  },
  {
   "cell_type": "markdown",
   "metadata": {},
   "source": [
    "### Document Intelligence client"
   ]
  },
  {
   "cell_type": "code",
   "execution_count": 3,
   "metadata": {},
   "outputs": [
    {
     "data": {
      "text/plain": [
       "True"
      ]
     },
     "execution_count": 3,
     "metadata": {},
     "output_type": "execute_result"
    }
   ],
   "source": [
    "# Load environment variables from .env file\n",
    "load_dotenv(override=True)"
   ]
  },
  {
   "cell_type": "code",
   "execution_count": 4,
   "metadata": {},
   "outputs": [
    {
     "name": "stdout",
     "output_type": "stream",
     "text": [
      "Current endpoint: https://ep-di-standalone.cognitiveservices.azure.com\n"
     ]
    }
   ],
   "source": [
    "# Be aware if your deployment is single-service (Azure Document Intelligence resource) or multi-service (Azure AI Services resource)\n",
    "azure_docintelligence_endpoint = os.environ.get('AZURE_DOCUMENT_INTELLIGENCE_ENDPOINT')\n",
    "azure_docintelligence_key = os.environ.get('AZURE_DOCUMENT_INTELLIGENCE_KEY')\n",
    "print(f'Current endpoint: {azure_docintelligence_endpoint}')"
   ]
  },
  {
   "cell_type": "code",
   "execution_count": 5,
   "metadata": {},
   "outputs": [],
   "source": [
    "document_intelligence_client = DocumentIntelligenceClient(\n",
    "    endpoint=azure_docintelligence_endpoint, \n",
    "    credential=AzureKeyCredential(azure_docintelligence_key),\n",
    "    # api_version=\"2024-11-30\" # v4.0 (default)\n",
    ")"
   ]
  },
  {
   "cell_type": "markdown",
   "metadata": {},
   "source": [
    "## Sample document"
   ]
  },
  {
   "cell_type": "code",
   "execution_count": 5,
   "metadata": {},
   "outputs": [],
   "source": [
    "# a lot of test files in different formats are available in this repo:\n",
    "# https://github.com/Azure-Samples/cognitive-services-REST-api-samples/tree/master/curl/form-recognizer"
   ]
  },
  {
   "cell_type": "code",
   "execution_count": 6,
   "metadata": {},
   "outputs": [],
   "source": [
    "# for an example of how to use a local file, see the Prebuilt-layout --> Key-value pairs section"
   ]
  },
  {
   "cell_type": "code",
   "execution_count": 7,
   "metadata": {},
   "outputs": [],
   "source": [
    "# get the document file from a URL\n",
    "formUrl = \"https://raw.githubusercontent.com/Azure-Samples/cognitive-services-REST-api-samples/master/curl/form-recognizer/sample-layout.pdf\""
   ]
  },
  {
   "cell_type": "code",
   "execution_count": 8,
   "metadata": {},
   "outputs": [],
   "source": [
    "#formUrl = \"https://raw.githubusercontent.com/Azure-Samples/cognitive-services-REST-api-samples/master/curl/form-recognizer/invoice-logic-apps-tutorial.pdf\""
   ]
  },
  {
   "cell_type": "code",
   "execution_count": 9,
   "metadata": {},
   "outputs": [],
   "source": [
    "#formUrl = \"https://raw.githubusercontent.com/Azure-Samples/cognitive-services-REST-api-samples/master/curl/form-recognizer/invoice_sample.jpg\""
   ]
  },
  {
   "cell_type": "markdown",
   "metadata": {},
   "source": [
    "## Analyze document"
   ]
  },
  {
   "cell_type": "markdown",
   "metadata": {},
   "source": [
    "### Prebuilt-read"
   ]
  },
  {
   "cell_type": "code",
   "execution_count": 41,
   "metadata": {},
   "outputs": [],
   "source": [
    "poller = document_intelligence_client.begin_analyze_document(\n",
    "    model_id=\"prebuilt-read\", body=AnalyzeDocumentRequest(url_source=formUrl\n",
    "))"
   ]
  },
  {
   "cell_type": "code",
   "execution_count": 42,
   "metadata": {},
   "outputs": [
    {
     "data": {
      "text/plain": [
       "<azure.ai.documentintelligence._operations._patch.AnalyzeDocumentLROPoller at 0x2acb70078e0>"
      ]
     },
     "execution_count": 42,
     "metadata": {},
     "output_type": "execute_result"
    }
   ],
   "source": [
    "# An instance of AnalyzeDocumentLROPoller that returns AnalyzeResult. \n",
    "# (LRO = long-running operation)\n",
    "poller"
   ]
  },
  {
   "cell_type": "code",
   "execution_count": 43,
   "metadata": {},
   "outputs": [],
   "source": [
    "# The result() method is designed to retrieve the result of a long-running operation (LRO), \n",
    "# which is a common pattern in cloud services where certain tasks, such as analyzing data or deploying resources, take time to complete.\n",
    "# It abstracts the complexity of polling and waiting, handling the operation's result once it is available.\n",
    "\n",
    "# Returns: The deserialized resource of the long running operation, if one is available\n",
    "result: AnalyzeResult = poller.result(timeout=1000)"
   ]
  },
  {
   "cell_type": "code",
   "execution_count": null,
   "metadata": {},
   "outputs": [],
   "source": [
    "print(result)"
   ]
  },
  {
   "cell_type": "code",
   "execution_count": null,
   "metadata": {},
   "outputs": [],
   "source": [
    "print(result.content)"
   ]
  },
  {
   "cell_type": "code",
   "execution_count": 15,
   "metadata": {},
   "outputs": [
    {
     "name": "stdout",
     "output_type": "stream",
     "text": [
      "['api_version', 'as_dict', 'clear', 'content', 'content_format', 'copy', 'documents', 'figures', 'get', 'items', 'key_value_pairs', 'keys', 'languages', 'model_id', 'pages', 'paragraphs', 'pop', 'popitem', 'sections', 'setdefault', 'string_index_type', 'styles', 'tables', 'update', 'values', 'warnings']\n"
     ]
    }
   ],
   "source": [
    "# print dir(result) ignoring hidden attributes\n",
    "print([attr for attr in dir(result) if not attr.startswith('_')])"
   ]
  },
  {
   "cell_type": "code",
   "execution_count": 16,
   "metadata": {},
   "outputs": [
    {
     "name": "stdout",
     "output_type": "stream",
     "text": [
      "I haven't found any tables.\n"
     ]
    }
   ],
   "source": [
    "# experiment with prebuilt read model: it does not return tables\n",
    "if result.tables:\n",
    "    print(f\"I've found {len(result.tables)} tables.\")\n",
    "else:\n",
    "    print(\"I haven't found any tables.\")"
   ]
  },
  {
   "cell_type": "markdown",
   "metadata": {},
   "source": [
    "### Prebuilt-layout"
   ]
  },
  {
   "cell_type": "code",
   "execution_count": 17,
   "metadata": {},
   "outputs": [],
   "source": [
    "poller = document_intelligence_client.begin_analyze_document(\n",
    "    model_id=\"prebuilt-layout\", \n",
    "    body=AnalyzeDocumentRequest(url_source=formUrl) # the parameter urlSource or base64Source is required\n",
    ")"
   ]
  },
  {
   "cell_type": "code",
   "execution_count": 18,
   "metadata": {},
   "outputs": [],
   "source": [
    "# The result() method is designed to retrieve the result of a long-running operation (LRO), \n",
    "# which is a common pattern in cloud services where certain tasks, such as analyzing data or deploying resources, take time to complete.\n",
    "# It abstracts the complexity of polling and waiting, handling the operation's result once it is available.\n",
    "\n",
    "# Returns: The deserialized resource of the long running operation, if one is available\n",
    "result: AnalyzeResult = poller.result(timeout=1000)"
   ]
  },
  {
   "cell_type": "code",
   "execution_count": null,
   "metadata": {},
   "outputs": [],
   "source": [
    "print(result)"
   ]
  },
  {
   "cell_type": "code",
   "execution_count": 20,
   "metadata": {},
   "outputs": [
    {
     "data": {
      "text/plain": [
       "azure.ai.documentintelligence.models._models.AnalyzeResult"
      ]
     },
     "execution_count": 20,
     "metadata": {},
     "output_type": "execute_result"
    }
   ],
   "source": [
    "type(result)"
   ]
  },
  {
   "cell_type": "code",
   "execution_count": 21,
   "metadata": {},
   "outputs": [
    {
     "data": {
      "text/plain": [
       "'prebuilt-layout'"
      ]
     },
     "execution_count": 21,
     "metadata": {},
     "output_type": "execute_result"
    }
   ],
   "source": [
    "result.model_id"
   ]
  },
  {
   "cell_type": "code",
   "execution_count": 22,
   "metadata": {},
   "outputs": [
    {
     "data": {
      "text/plain": [
       "'2024-11-30'"
      ]
     },
     "execution_count": 22,
     "metadata": {},
     "output_type": "execute_result"
    }
   ],
   "source": [
    "result.api_version"
   ]
  },
  {
   "cell_type": "code",
   "execution_count": 23,
   "metadata": {},
   "outputs": [
    {
     "name": "stdout",
     "output_type": "stream",
     "text": [
      "UNITED STATES SECURITIES AND EXCHANGE COMMISSION Washington, D.C. 20549\n",
      "FORM 10-Q\n",
      "☐ ☒ :selected: QUARTERLY REPORT PURSUANT TO SECTION 13 OR 15(d) OF THE SECURITIES EXCHANGE ACT OF 1934 For the Quarterly Period Ended March 31, 2020 OR :unselected: TRANSITION REPORT PURSUANT TO SECTION 13 OR 15(d) OF THE SECURITIES EXCHANGE ACT OF 1934 For the Transition Period From to\n",
      "Commission File Number 001-37845\n",
      "MICROSOFT CORPORATION\n",
      "WASHINGTON (STATE OF INCORPORATION) ONE MICROSOFT WAY, REDMOND, WASHINGTON 98052-6399 (425) 882-8080 www.microsoft.com/investor\n",
      "91-1144442 (I.R.S. ID)\n",
      "Securities registered pursuant to Section 12(b) of the Act:\n",
      "Title of each class\n",
      "Trading Symbol\n",
      "Name of exchange on which registered\n",
      "Common stock, $0.00000625 par value per share\n",
      "MSFT\n",
      "NASDAQ\n",
      "2.125% Notes due 2021\n",
      "MSFT\n",
      "NASDAQ\n",
      "3.125% Notes due 2028\n",
      "MSFT\n",
      "NASDAQ\n",
      "2.625% Notes due 2033\n",
      "MSFT\n",
      "NASDAQ\n",
      "Securities registered pursuant to Section 12(g) of the Act: NONE\n",
      "Indicate by check mark whether the registrant (1) has filed all reports required to be filed by Section 13 or 15(d) of the Securities Exchange Act of 1934 during the preceding 12 months (or for such shorter period that the registrant was required to file such reports), and (2) has been subject to such filing requirements for the past 90 days. Yes :unselected: No :selected:\n",
      "Indicate by check mark whether the registrant has submitted electronically every Interactive Data File required to be submitted pursuant to Rule 405 of Regulation S-T (§232.405 of this chapter) during the preceding 12 months (or for such shorter period that the registrant was required to submit such files). :selected: Yes :unselected: No\n",
      "Indicate by check mark whether the registrant is a large accelerated filer, an accelerated filer, a non-accelerated filer, a smaller reporting company, or an emerging growth company. See the definitions of \"large accelerated filer,\" \"accelerated filer,\" \"smaller reporting company,\" and \"emerging growth company\" in Rule 12b-2 of the Exchange Act. :selected: Large accelerated filer Non-accelerated filer :unselected: :unselected: Accelerated filer Smaller reporting company Emerging growth company :unselected: :unselected:\n",
      "If an emerging growth company, indicate by check mark if the registrant has elected not to use the extended transition period for complying with any new or revised financial accounting standards provided pursuant to Section 13(a) of the Exchange Act. :unselected:\n",
      "Indicate by check mark whether the registrant is a shell company (as defined in Rule 12b-2 of the Exchange Act). Yes :unselected: No :selected:\n",
      "Indicate the number of shares outstanding of each of the issuer's classes of common stock, as of the latest practicable date.\n",
      "Class\n",
      "Outstanding as of April 24, 2020\n",
      "Common Stock, $0.00000625 par value per share\n",
      "7,583,440,247 shares\n"
     ]
    }
   ],
   "source": [
    "print(result.content)"
   ]
  },
  {
   "cell_type": "code",
   "execution_count": 24,
   "metadata": {},
   "outputs": [
    {
     "name": "stdout",
     "output_type": "stream",
     "text": [
      "I've found 2 tables.\n"
     ]
    }
   ],
   "source": [
    "if result.tables:\n",
    "    print(f\"I've found {len(result.tables)} tables.\")"
   ]
  },
  {
   "cell_type": "markdown",
   "metadata": {},
   "source": [
    "#### Tables parsing"
   ]
  },
  {
   "cell_type": "code",
   "execution_count": null,
   "metadata": {},
   "outputs": [],
   "source": [
    "if result.tables:\n",
    "    for table_idx, table in enumerate(result.tables):\n",
    "        print(\n",
    "            f\"Table # {table_idx} has {table.row_count} rows and \"\n",
    "            f\"{table.column_count} columns\"\n",
    "        )\n",
    "        if table.bounding_regions:\n",
    "            for region in table.bounding_regions:\n",
    "                print(\n",
    "                    f\"Table # {table_idx} location on page: {region.page_number} is {region.polygon}\"\n",
    "                )\n",
    "        for cell in table.cells:\n",
    "            print(\n",
    "                f\"...Cell[{cell.row_index}][{cell.column_index}] has text '{cell.content}'\"\n",
    "            )\n",
    "            if cell.bounding_regions:\n",
    "                for region in cell.bounding_regions:\n",
    "                    print(\n",
    "                        f\"...content on page {region.page_number} is within bounding polygon '{region.polygon}'\"\n",
    "                    )"
   ]
  },
  {
   "cell_type": "code",
   "execution_count": 26,
   "metadata": {},
   "outputs": [
    {
     "name": "stdout",
     "output_type": "stream",
     "text": [
      "Table # 0 has 4 rows and 3 columns\n",
      "Table # 1 has 1 rows and 2 columns\n"
     ]
    }
   ],
   "source": [
    "# table to dataframe\n",
    "if result.tables:\n",
    "    # list to store all dataframes\n",
    "    dataframes = []  \n",
    "    for table_idx, table in enumerate(result.tables):\n",
    "        # count rows and columns, considering the header row\n",
    "        print(\n",
    "            f\"Table # {table_idx} has {table.row_count - 1} rows and \"\n",
    "            f\"{table.column_count} columns\"\n",
    "        )\n",
    "        # initialize an empty dataframe with the correct dimensions\n",
    "        df = pd.DataFrame(index=range(table.row_count), columns=range(table.column_count))\n",
    "        for cell in table.cells:\n",
    "            # Assign the cell content to the correct location in the dataframe\n",
    "            df.at[cell.row_index, cell.column_index] = cell.content        \n",
    "        # promote the first row as column headers\n",
    "        df.columns = df.iloc[0]  # Set the first row as the header\n",
    "        df = df[1:].reset_index(drop=True)  # Drop the first row and reset the index\n",
    "        \n",
    "        # add the current dataframe to the list of dataframes\n",
    "        dataframes.append(df)  "
   ]
  },
  {
   "cell_type": "code",
   "execution_count": 27,
   "metadata": {},
   "outputs": [
    {
     "data": {
      "text/plain": [
       "2"
      ]
     },
     "execution_count": 27,
     "metadata": {},
     "output_type": "execute_result"
    }
   ],
   "source": [
    "len(dataframes)"
   ]
  },
  {
   "cell_type": "code",
   "execution_count": 28,
   "metadata": {},
   "outputs": [
    {
     "data": {
      "application/vnd.microsoft.datawrangler.viewer.v0+json": {
       "columns": [
        {
         "name": "index",
         "rawType": "int64",
         "type": "integer"
        },
        {
         "name": "Title of each class",
         "rawType": "object",
         "type": "string"
        },
        {
         "name": "Trading Symbol",
         "rawType": "object",
         "type": "string"
        },
        {
         "name": "Name of exchange on which registered",
         "rawType": "object",
         "type": "string"
        }
       ],
       "conversionMethod": "pd.DataFrame",
       "ref": "3555a37a-5a58-4972-a7ec-8f5b0d0f5c7e",
       "rows": [
        [
         "0",
         "Common stock, $0.00000625 par value per share",
         "MSFT",
         "NASDAQ"
        ],
        [
         "1",
         "2.125% Notes due 2021",
         "MSFT",
         "NASDAQ"
        ],
        [
         "2",
         "3.125% Notes due 2028",
         "MSFT",
         "NASDAQ"
        ],
        [
         "3",
         "2.625% Notes due 2033",
         "MSFT",
         "NASDAQ"
        ]
       ],
       "shape": {
        "columns": 3,
        "rows": 4
       }
      },
      "text/html": [
       "<div>\n",
       "<style scoped>\n",
       "    .dataframe tbody tr th:only-of-type {\n",
       "        vertical-align: middle;\n",
       "    }\n",
       "\n",
       "    .dataframe tbody tr th {\n",
       "        vertical-align: top;\n",
       "    }\n",
       "\n",
       "    .dataframe thead th {\n",
       "        text-align: right;\n",
       "    }\n",
       "</style>\n",
       "<table border=\"1\" class=\"dataframe\">\n",
       "  <thead>\n",
       "    <tr style=\"text-align: right;\">\n",
       "      <th></th>\n",
       "      <th>Title of each class</th>\n",
       "      <th>Trading Symbol</th>\n",
       "      <th>Name of exchange on which registered</th>\n",
       "    </tr>\n",
       "  </thead>\n",
       "  <tbody>\n",
       "    <tr>\n",
       "      <th>0</th>\n",
       "      <td>Common stock, $0.00000625 par value per share</td>\n",
       "      <td>MSFT</td>\n",
       "      <td>NASDAQ</td>\n",
       "    </tr>\n",
       "    <tr>\n",
       "      <th>1</th>\n",
       "      <td>2.125% Notes due 2021</td>\n",
       "      <td>MSFT</td>\n",
       "      <td>NASDAQ</td>\n",
       "    </tr>\n",
       "    <tr>\n",
       "      <th>2</th>\n",
       "      <td>3.125% Notes due 2028</td>\n",
       "      <td>MSFT</td>\n",
       "      <td>NASDAQ</td>\n",
       "    </tr>\n",
       "    <tr>\n",
       "      <th>3</th>\n",
       "      <td>2.625% Notes due 2033</td>\n",
       "      <td>MSFT</td>\n",
       "      <td>NASDAQ</td>\n",
       "    </tr>\n",
       "  </tbody>\n",
       "</table>\n",
       "</div>"
      ],
      "text/plain": [
       "0                            Title of each class Trading Symbol  \\\n",
       "0  Common stock, $0.00000625 par value per share           MSFT   \n",
       "1                          2.125% Notes due 2021           MSFT   \n",
       "2                          3.125% Notes due 2028           MSFT   \n",
       "3                          2.625% Notes due 2033           MSFT   \n",
       "\n",
       "0 Name of exchange on which registered  \n",
       "0                               NASDAQ  \n",
       "1                               NASDAQ  \n",
       "2                               NASDAQ  \n",
       "3                               NASDAQ  "
      ]
     },
     "execution_count": 28,
     "metadata": {},
     "output_type": "execute_result"
    }
   ],
   "source": [
    "dataframes[0]"
   ]
  },
  {
   "cell_type": "markdown",
   "metadata": {},
   "source": [
    "#### Key-value pairs"
   ]
  },
  {
   "cell_type": "code",
   "execution_count": 45,
   "metadata": {},
   "outputs": [],
   "source": [
    "# Read the local file in binary mode\n",
    "with open('assets/simple-invoice.png', \"rb\") as file:\n",
    "    poller = document_intelligence_client.begin_analyze_document(\n",
    "        model_id=\"prebuilt-layout\",\n",
    "        body=file,  # Pass the file as the 'body' parameter\n",
    "        features=[DocumentAnalysisFeature.KEY_VALUE_PAIRS],\n",
    "        content_type=\"image/png\",  # default \"application/json\", \n",
    "                                         # other examples: \"image/jpeg\", \"image/png\", \"application/pdf\"\n",
    "                                         # \"application/octet-stream\" for flexible usage dealing with various file types (it is a safe default but may not provide the best performance for specific file types)\n",
    "    )\n"
   ]
  },
  {
   "cell_type": "code",
   "execution_count": 46,
   "metadata": {},
   "outputs": [
    {
     "name": "stdout",
     "output_type": "stream",
     "text": [
      "I've found 7 key-value pairs.\n"
     ]
    }
   ],
   "source": [
    "result: AnalyzeResult = poller.result()\n",
    "print(f\"I've found {len(result.key_value_pairs)} key-value pairs.\")"
   ]
  },
  {
   "cell_type": "code",
   "execution_count": 47,
   "metadata": {},
   "outputs": [
    {
     "data": {
      "text/plain": [
       "[{'key': {'content': 'Address:', 'boundingRegions': [{'pageNumber': 1, 'polygon': [186, 353, 329, 353, 329, 385, 186, 384]}], 'spans': [{'offset': 8, 'length': 8}]}, 'value': {'content': '1 Redmond way Suite\\n6000 Redmond, WA\\n99243', 'boundingRegions': [{'pageNumber': 1, 'polygon': [186, 397, 508, 397, 508, 519, 186, 519]}], 'spans': [{'offset': 17, 'length': 42}]}, 'confidence': 0.997},\n",
       " {'key': {'content': 'Invoice For:', 'boundingRegions': [{'pageNumber': 1, 'polygon': [1031, 351, 1201, 351, 1201, 386, 1031, 386]}], 'spans': [{'offset': 60, 'length': 12}]}, 'value': {'content': 'Microsoft\\n1020 Enterprise Way\\nSunnayvale, CA 87659', 'boundingRegions': [{'pageNumber': 1, 'polygon': [1220, 351, 1568, 351, 1568, 480, 1220, 480]}], 'spans': [{'offset': 73, 'length': 50}]}, 'confidence': 0.997},\n",
       " {'key': {'content': 'Invoice Number', 'boundingRegions': [{'pageNumber': 1, 'polygon': [123, 671, 374, 672, 374, 706, 123, 706]}], 'spans': [{'offset': 124, 'length': 14}]}, 'value': {'content': '34278587', 'boundingRegions': [{'pageNumber': 1, 'polygon': [124, 797, 272, 796, 272, 830, 124, 830]}], 'spans': [{'offset': 184, 'length': 8}]}, 'confidence': 0.997},\n",
       " {'key': {'content': 'Invoice Date', 'boundingRegions': [{'pageNumber': 1, 'polygon': [455, 673, 650, 672, 650, 705, 455, 705]}], 'spans': [{'offset': 139, 'length': 12}]}, 'value': {'content': '6/18/2017', 'boundingRegions': [{'pageNumber': 1, 'polygon': [455, 797, 603, 797, 603, 830, 455, 831]}], 'spans': [{'offset': 193, 'length': 9}]}, 'confidence': 0.996},\n",
       " {'key': {'content': 'Invoice Due Date', 'boundingRegions': [{'pageNumber': 1, 'polygon': [784, 672, 1051, 671, 1051, 705, 784, 706]}], 'spans': [{'offset': 152, 'length': 16}]}, 'value': {'content': '6/24/2017', 'boundingRegions': [{'pageNumber': 1, 'polygon': [784, 797, 932, 796, 932, 831, 784, 831]}], 'spans': [{'offset': 203, 'length': 9}]}, 'confidence': 0.997},\n",
       " {'key': {'content': 'Charges', 'boundingRegions': [{'pageNumber': 1, 'polygon': [1114, 673, 1247, 673, 1247, 708, 1114, 707]}], 'spans': [{'offset': 169, 'length': 7}]}, 'value': {'content': '$56,651.49\\nPT', 'boundingRegions': [{'pageNumber': 1, 'polygon': [1265, 798, 1506, 797, 1506, 832, 1265, 833]}], 'spans': [{'offset': 213, 'length': 13}]}, 'confidence': 0.971},\n",
       " {'key': {'content': 'VAT ID', 'boundingRegions': [{'pageNumber': 1, 'polygon': [1443, 671, 1553, 672, 1553, 704, 1443, 704]}], 'spans': [{'offset': 177, 'length': 6}]}, 'confidence': 0.997}]"
      ]
     },
     "execution_count": 47,
     "metadata": {},
     "output_type": "execute_result"
    }
   ],
   "source": [
    "# verbose print of key-value pairs\n",
    "result.key_value_pairs"
   ]
  },
  {
   "cell_type": "code",
   "execution_count": 48,
   "metadata": {},
   "outputs": [
    {
     "name": "stdout",
     "output_type": "stream",
     "text": [
      "----Key-value pairs found in document----\n",
      "Key: Address:, \n",
      "Value: 1 Redmond way Suite\n",
      "6000 Redmond, WA\n",
      "99243\n",
      "--\n",
      "Key: Invoice For:, \n",
      "Value: Microsoft\n",
      "1020 Enterprise Way\n",
      "Sunnayvale, CA 87659\n",
      "--\n",
      "Key: Invoice Number, \n",
      "Value: 34278587\n",
      "--\n",
      "Key: Invoice Date, \n",
      "Value: 6/18/2017\n",
      "--\n",
      "Key: Invoice Due Date, \n",
      "Value: 6/24/2017\n",
      "--\n",
      "Key: Charges, \n",
      "Value: $56,651.49\n",
      "PT\n",
      "--\n",
      "Key: VAT ID, \n",
      "Value: None\n",
      "--\n"
     ]
    }
   ],
   "source": [
    "print(\"----Key-value pairs found in document----\")\n",
    "if result.key_value_pairs:\n",
    "    for kv_pair in result.key_value_pairs:\n",
    "        key = kv_pair.key.content if kv_pair.key else \"None\"\n",
    "        value = kv_pair.value.content if kv_pair.value else \"None\"\n",
    "        print(f\"Key: {key}, \\nValue: {value}\")\n",
    "        print(\"--\")\n"
   ]
  },
  {
   "cell_type": "markdown",
   "metadata": {},
   "source": [
    "#### Markdown output"
   ]
  },
  {
   "cell_type": "code",
   "execution_count": 85,
   "metadata": {},
   "outputs": [],
   "source": [
    "poller = document_intelligence_client.begin_analyze_document(\n",
    "    \"prebuilt-layout\",\n",
    "    body=AnalyzeDocumentRequest(url_source=formUrl),\n",
    "    output_content_format=\"markdown\" # default \"text\"\n",
    ")"
   ]
  },
  {
   "cell_type": "code",
   "execution_count": 86,
   "metadata": {},
   "outputs": [
    {
     "name": "stdout",
     "output_type": "stream",
     "text": [
      "https://raw.githubusercontent.com/Azure-Samples/cognitive-services-REST-api-samples/master/curl/form-recognizer/sample-layout.pdf\n"
     ]
    }
   ],
   "source": [
    "print(formUrl)"
   ]
  },
  {
   "cell_type": "code",
   "execution_count": 87,
   "metadata": {},
   "outputs": [
    {
     "name": "stdout",
     "output_type": "stream",
     "text": [
      "File name: sample-layout.pdf\n"
     ]
    }
   ],
   "source": [
    "# retrieve the file name from the URL\n",
    "file_name = os.path.basename(formUrl)\n",
    "print(f\"File name: {file_name}\")\n",
    "# file name without extension\n",
    "file_name_without_ext = os.path.splitext(file_name)[0]"
   ]
  },
  {
   "cell_type": "code",
   "execution_count": 88,
   "metadata": {},
   "outputs": [],
   "source": [
    "result: AnalyzeResult = poller.result()"
   ]
  },
  {
   "cell_type": "code",
   "execution_count": 89,
   "metadata": {},
   "outputs": [
    {
     "name": "stdout",
     "output_type": "stream",
     "text": [
      "# UNITED STATES SECURITIES AND EXCHANGE COMMISSION Washington, D.C. 20549\n",
      "\n",
      "\n",
      "## FORM 10-Q\n",
      "\n",
      "☐\n",
      "☒\n",
      "☒\n",
      "QUARTERLY REPORT PURSUANT TO SECTION 13 OR 15(d) OF THE SECURITIES EXCHANGE ACT OF\n",
      "1934\n",
      "For the Quarterly Period Ended March 31, 2020\n",
      "OR\n",
      "☐\n",
      "TRANSITION REPORT PURSUANT TO SECTION 13 OR 15(d) OF THE SECURITIES EXCHANGE ACT OF\n",
      "1934\n",
      "For the Transition Period From\n",
      "to\n",
      "\n",
      "Commission File Number 001-37845\n",
      "\n",
      "\n",
      "## MICROSOFT CORPORATION\n",
      "\n",
      "WASHINGTON\n",
      "(STATE OF INCORPORATION)\n",
      "ONE MICROSOFT WAY, REDMOND, WASHINGTON 98052-6399\n",
      "(425) 882-8080\n",
      "www.microsoft.com/investor\n",
      "\n",
      "91-1144442\n",
      "(I.R.S. ID)\n",
      "\n",
      "Securities registered pursuant to Section 12(b) of the Act:\n",
      "\n",
      "\n",
      "<table>\n",
      "<tr>\n",
      "<th>Title of each class</th>\n",
      "<th>Trading Symbol</th>\n",
      "<th>Name of exchange on which registered</th>\n",
      "</tr>\n",
      "<tr>\n",
      "<td>Common stock, $0.00000625 par value per share</td>\n",
      "<td>MSFT</td>\n",
      "<td>NASDAQ</td>\n",
      "</tr>\n",
      "<tr>\n",
      "<td>2.125% Notes due 2021</td>\n",
      "<td>MSFT</td>\n",
      "<td>NASDAQ</td>\n",
      "</tr>\n",
      "<tr>\n",
      "<td>3.125% Notes due 2028</td>\n",
      "<td>MSFT</td>\n",
      "<td>NASDAQ</td>\n",
      "</tr>\n",
      "<tr>\n",
      "<td>2.625% Notes due 2033</td>\n",
      "<td>MSFT</td>\n",
      "<td>NASDAQ</td>\n",
      "</tr>\n",
      "</table>\n",
      "\n",
      "\n",
      "Securities registered pursuant to Section 12(g) of the Act:\n",
      "NONE\n",
      "\n",
      "Indicate by check mark whether the registrant (1) has filed all reports required to be filed by Section 13 or 15(d) of the Securities Exchange\n",
      "Act of 1934 during the preceding 12 months (or for such shorter period that the registrant was required to file such reports), and (2) has\n",
      "been subject to such filing requirements for the past 90 days. Yes\n",
      "☐\n",
      "No\n",
      "☒\n",
      "\n",
      "Indicate by check mark whether the registrant has submitted electronically every Interactive Data File required to be submitted pursuant to Rule\n",
      "405 of Regulation S-T (§232.405 of this chapter) during the preceding 12 months (or for such shorter period that the registrant was required to\n",
      "submit such files).\n",
      "☒\n",
      "Yes\n",
      "☐\n",
      "No\n",
      "\n",
      "Indicate by check mark whether the registrant is a large accelerated filer, an accelerated filer, a non-accelerated filer, a smaller reporting\n",
      "company, or an emerging growth company. See the definitions of \"large accelerated filer,\" \"accelerated filer,\" \"smaller reporting company,\"\n",
      "and \"emerging growth company\" in Rule 12b-2 of the Exchange Act.\n",
      "\n",
      "☒\n",
      "Large accelerated filer\n",
      "Non-accelerated filer\n",
      "☐\n",
      "\n",
      "☐\n",
      "Accelerated filer\n",
      "Smaller reporting company\n",
      "Emerging growth company\n",
      "☐\n",
      "\n",
      "☐\n",
      "\n",
      "If an emerging growth company, indicate by check mark if the registrant has elected not to use the extended transition period for complying\n",
      "with any new or revised financial accounting standards provided pursuant to Section 13(a) of the Exchange Act.\n",
      "☐\n",
      "\n",
      "Indicate by check mark whether the registrant is a shell company (as defined in Rule 12b-2 of the Exchange Act). Yes\n",
      "☐\n",
      "No\n",
      "\n",
      "☒\n",
      "\n",
      "Indicate the number of shares outstanding of each of the issuer's classes of common stock, as of the latest practicable date.\n",
      "\n",
      "\n",
      "<table>\n",
      "<tr>\n",
      "<th>Class</th>\n",
      "<th>Outstanding as of April 24, 2020</th>\n",
      "</tr>\n",
      "<tr>\n",
      "<td>Common Stock, $0.00000625 par value per share</td>\n",
      "<td>7,583,440,247 shares</td>\n",
      "</tr>\n",
      "</table>\n",
      "\n"
     ]
    }
   ],
   "source": [
    "print(result.content)"
   ]
  },
  {
   "cell_type": "code",
   "execution_count": 90,
   "metadata": {},
   "outputs": [],
   "source": [
    "# save result content to file\n",
    "with open(f\"assets/{file_name_without_ext}.md\", \"w\") as f:\n",
    "    f.write(result.content)  # Write the string content directly"
   ]
  },
  {
   "cell_type": "markdown",
   "metadata": {},
   "source": [
    "### Searchable PDF"
   ]
  },
  {
   "cell_type": "markdown",
   "metadata": {},
   "source": [
    "Note: For now, this feature is only supported by \"prebuilt-read\" model. All other models will return error."
   ]
  },
  {
   "cell_type": "code",
   "execution_count": 26,
   "metadata": {},
   "outputs": [],
   "source": [
    "# Read the local file in binary mode\n",
    "with open('assets/invoice_sample.jpg', \"rb\") as file:\n",
    "    poller = document_intelligence_client.begin_analyze_document(\n",
    "        model_id=\"prebuilt-read\",\n",
    "        body=file,\n",
    "        # output_content_format=\"pdf\" ,\n",
    "        output=[\"pdf\"]\n",
    "    )\n",
    "\n",
    "# Get the result\n",
    "result = poller.result()"
   ]
  },
  {
   "cell_type": "code",
   "execution_count": 27,
   "metadata": {},
   "outputs": [
    {
     "data": {
      "text/plain": [
       "azure.ai.documentintelligence.models._models.AnalyzeResult"
      ]
     },
     "execution_count": 27,
     "metadata": {},
     "output_type": "execute_result"
    }
   ],
   "source": [
    "# This object cannot be directly written to a file as bytes. \n",
    "type(result)"
   ]
  },
  {
   "cell_type": "code",
   "execution_count": 28,
   "metadata": {},
   "outputs": [
    {
     "data": {
      "text/plain": [
       "'cc1274bd-7771-48a2-8066-c11e2d613660'"
      ]
     },
     "execution_count": 28,
     "metadata": {},
     "output_type": "execute_result"
    }
   ],
   "source": [
    "# Get the operation_id from the poller\n",
    "poller.details['operation_id']"
   ]
  },
  {
   "cell_type": "code",
   "execution_count": null,
   "metadata": {},
   "outputs": [
    {
     "data": {
      "text/plain": [
       "generator"
      ]
     },
     "execution_count": 29,
     "metadata": {},
     "output_type": "execute_result"
    }
   ],
   "source": [
    "pdf_content = document_intelligence_client.get_analyze_result_pdf(result.model_id, poller.details['operation_id'])\n",
    "type(pdf_content)"
   ]
  },
  {
   "cell_type": "code",
   "execution_count": 30,
   "metadata": {},
   "outputs": [
    {
     "name": "stdout",
     "output_type": "stream",
     "text": [
      "PDF saved to output_document.pdf\n"
     ]
    }
   ],
   "source": [
    "# Save the PDF content to a file\n",
    "output_pdf_path = \"output_document.pdf\"\n",
    "with open(output_pdf_path, \"wb\") as pdf_file:\n",
    "    for chunk in pdf_content:\n",
    "        pdf_file.write(chunk)\n",
    "\n",
    "print(f\"PDF saved to {output_pdf_path}\")"
   ]
  },
  {
   "cell_type": "markdown",
   "metadata": {},
   "source": [
    "### Extract figures"
   ]
  },
  {
   "cell_type": "code",
   "execution_count": 33,
   "metadata": {},
   "outputs": [],
   "source": [
    "file_path = \"assets/sample_report_10pg.pdf\""
   ]
  },
  {
   "cell_type": "code",
   "execution_count": 76,
   "metadata": {},
   "outputs": [],
   "source": [
    "# Read the local file in binary mode\n",
    "with open(file_path, \"rb\") as file:\n",
    "\n",
    "    poller = document_intelligence_client.begin_analyze_document(\n",
    "        \"prebuilt-layout\",\n",
    "        body=file,\n",
    "        output=[AnalyzeOutputOption.FIGURES], # output=[\"figures\"],\n",
    "        # features=[DocumentAnalysisFeature.OCR_HIGH_RESOLUTION],\n",
    "        # output_content_format=\"markdown\"\n",
    "    )\n",
    "\n",
    "    result: AnalyzeResult = poller.result()"
   ]
  },
  {
   "cell_type": "code",
   "execution_count": 77,
   "metadata": {},
   "outputs": [
    {
     "data": {
      "text/plain": [
       "[{'id': '1.1', 'boundingRegions': [{'pageNumber': 1, 'polygon': [0.6659, 0.2039, 1.466, 0.2037, 1.4663, 1.045, 0.6661, 1.0451]}], 'spans': [{'offset': 0, 'length': 27}], 'elements': ['/paragraphs/0']},\n",
       " {'id': '2.1', 'boundingRegions': [{'pageNumber': 2, 'polygon': [0.3593, 0.3291, 1.1479, 0.3292, 1.148, 1.1606, 0.3593, 1.1605]}], 'spans': [{'offset': 1701, 'length': 8}], 'elements': ['/paragraphs/16']},\n",
       " {'id': '5.1', 'boundingRegions': [{'pageNumber': 5, 'polygon': [0.6741, 0.1792, 1.4765, 0.1793, 1.4765, 1.0329, 0.674, 1.0329]}], 'spans': [{'offset': 9198, 'length': 8}], 'elements': ['/paragraphs/168']},\n",
       " {'id': '9.1', 'boundingRegions': [{'pageNumber': 9, 'polygon': [4.3458, 2.1533, 7.1722, 2.1536, 7.1719, 3.8995, 4.3455, 3.899]}], 'spans': [{'offset': 18781, 'length': 8}], 'elements': ['/paragraphs/240'], 'footnotes': [{'content': 'Sources: IMF World Economic Outlook. Note: Bars show the difference in real output in 2023 and anticipated output for the same period prior to the crisis (January 2020 WEO).', 'boundingRegions': [{'pageNumber': 9, 'polygon': [4.3756, 3.9531, 7.1278, 3.952, 7.1279, 4.2399, 4.3757, 4.2409]}], 'spans': [{'offset': 18790, 'length': 173}], 'elements': ['/paragraphs/241']}]},\n",
       " {'id': '10.1', 'boundingRegions': [{'pageNumber': 10, 'polygon': [0.975, 1.1187, 4.1894, 1.1193, 4.1893, 3.6476, 0.975, 3.6468]}], 'spans': [{'offset': 20450, 'length': 546}], 'elements': ['/paragraphs/250', '/paragraphs/251', '/paragraphs/252', '/paragraphs/253', '/paragraphs/254', '/paragraphs/255', '/paragraphs/256', '/paragraphs/257', '/paragraphs/258', '/paragraphs/259', '/paragraphs/260', '/paragraphs/261', '/paragraphs/262', '/paragraphs/263', '/paragraphs/264', '/paragraphs/265', '/paragraphs/266'], 'caption': {'content': 'General Government Structural Primary Balance (in percent of GDP)', 'boundingRegions': [{'pageNumber': 10, 'polygon': [4.4759, 1.1816, 6.8312, 1.1821, 6.8312, 1.4355, 4.4759, 1.435]}], 'spans': [{'offset': 20997, 'length': 65}], 'elements': ['/paragraphs/267']}},\n",
       " {'id': '10.2', 'boundingRegions': [{'pageNumber': 10, 'polygon': [4.39, 1.4159, 7.0324, 1.4159, 7.0328, 2.8386, 4.3903, 2.8386]}], 'spans': [{'offset': 21063, 'length': 143}], 'elements': ['/paragraphs/268', '/paragraphs/269', '/paragraphs/270', '/paragraphs/271', '/paragraphs/272', '/paragraphs/273', '/paragraphs/274', '/paragraphs/275', '/paragraphs/276', '/paragraphs/277'], 'footnotes': [{'content': 'Source: IMF World Economic Outlook.', 'boundingRegions': [{'pageNumber': 10, 'polygon': [4.2603, 2.9807, 5.2882, 2.9813, 5.2882, 3.0638, 4.2602, 3.0632]}], 'spans': [{'offset': 21207, 'length': 35}], 'elements': ['/paragraphs/278']}, {'content': 'Note: Fiscal impulse is calculated as the cumulative sum of general government structural primary deficits exceeding 2019 levels over the period 2020-2023.', 'boundingRegions': [{'pageNumber': 10, 'polygon': [4.2616, 3.057, 6.8836, 3.0601, 6.8834, 3.2302, 4.2614, 3.2272]}], 'spans': [{'offset': 21243, 'length': 155}], 'elements': ['/paragraphs/279']}]},\n",
       " {'id': '10.3', 'boundingRegions': [{'pageNumber': 10, 'polygon': [0.9764, 5.7147, 4.1741, 5.7147, 4.1749, 8.2257, 0.9772, 8.2256]}], 'spans': [{'offset': 22116, 'length': 217}], 'elements': ['/paragraphs/282', '/paragraphs/283', '/paragraphs/284', '/paragraphs/285', '/paragraphs/286', '/paragraphs/287', '/paragraphs/288', '/paragraphs/289', '/paragraphs/290', '/paragraphs/291', '/paragraphs/292', '/paragraphs/293', '/paragraphs/294', '/paragraphs/295'], 'caption': {'content': 'Net Worth across Income Quintiles (US$ trillions, constant 2019 prices)', 'boundingRegions': [{'pageNumber': 10, 'polygon': [4.4549, 5.7763, 6.1725, 5.7764, 6.1725, 6.0364, 4.4549, 6.0362]}], 'spans': [{'offset': 22334, 'length': 71}], 'elements': ['/paragraphs/296']}},\n",
       " {'id': '10.4', 'boundingRegions': [{'pageNumber': 10, 'polygon': [4.2409, 5.9303, 7.152, 5.9305, 7.1517, 7.8316, 4.2405, 7.8315]}], 'spans': [{'offset': 22406, 'length': 168}], 'elements': ['/paragraphs/297', '/paragraphs/298', '/paragraphs/299', '/paragraphs/300', '/paragraphs/301', '/paragraphs/302', '/paragraphs/303', '/paragraphs/304', '/paragraphs/305', '/paragraphs/306', '/paragraphs/307', '/paragraphs/308', '/paragraphs/309', '/paragraphs/310', '/paragraphs/311', '/paragraphs/312', '/paragraphs/313', '/paragraphs/314', '/paragraphs/315', '/paragraphs/316', '/paragraphs/317', '/paragraphs/318', '/paragraphs/319', '/paragraphs/320', '/paragraphs/321', '/paragraphs/322', '/paragraphs/323', '/paragraphs/324']}]"
      ]
     },
     "execution_count": 77,
     "metadata": {},
     "output_type": "execute_result"
    }
   ],
   "source": [
    "result.figures"
   ]
  },
  {
   "cell_type": "markdown",
   "metadata": {},
   "source": [
    "Let's try to save one figure."
   ]
  },
  {
   "cell_type": "code",
   "execution_count": 78,
   "metadata": {},
   "outputs": [
    {
     "data": {
      "text/plain": [
       "generator"
      ]
     },
     "execution_count": 78,
     "metadata": {},
     "output_type": "execute_result"
    }
   ],
   "source": [
    "image_content = document_intelligence_client.get_analyze_result_figure(\"prebuilt-layout\", poller.details['operation_id'], '10.3')\n",
    "type(image_content)"
   ]
  },
  {
   "cell_type": "code",
   "execution_count": 79,
   "metadata": {},
   "outputs": [],
   "source": [
    "# Assuming image_content is an iterator of bytes\n",
    "with open('output_image.png', 'wb') as file:\n",
    "    for chunk in image_content:\n",
    "        file.write(chunk)"
   ]
  },
  {
   "cell_type": "markdown",
   "metadata": {},
   "source": [
    "Now let's iterate on all the figures found in the document."
   ]
  },
  {
   "cell_type": "code",
   "execution_count": null,
   "metadata": {},
   "outputs": [
    {
     "name": "stdout",
     "output_type": "stream",
     "text": [
      "Figure 1.1 saved as extracted_figures\\1.1.png\n",
      "Figure 2.1 saved as extracted_figures\\2.1.png\n",
      "Figure 5.1 saved as extracted_figures\\5.1.png\n",
      "Figure 9.1 saved as extracted_figures\\9.1.png\n",
      "Figure 10.1 saved as extracted_figures\\10.1.png\n",
      "Figure 10.2 saved as extracted_figures\\10.2.png\n",
      "Figure 10.3 saved as extracted_figures\\10.3.png\n",
      "Figure 10.4 saved as extracted_figures\\10.4.png\n"
     ]
    }
   ],
   "source": [
    "# Ensure the figures folder exists\n",
    "os.makedirs(\"extracted_figures\", exist_ok=True)\n",
    "\n",
    "# Save the figures to files\n",
    "# Note: PNG is a lossless format. If file size is a concern and some quality loss is acceptable, JPEG can be used.\n",
    "if result.figures:\n",
    "    for figure in result.figures:\n",
    "        if figure.id:\n",
    "            response = document_intelligence_client.get_analyze_result_figure(\n",
    "                model_id=result.model_id,\n",
    "                result_id=poller.details['operation_id'],\n",
    "                figure_id=figure.id\n",
    "            )\n",
    "            figure_filepath = os.path.join(\"extracted_figures\", f\"{figure.id}.png\")\n",
    "            with open(figure_filepath, \"wb\") as writer:\n",
    "                writer.writelines(response)\n",
    "            print(f\"Figure {figure.id} saved as {figure_filepath}\")\n",
    "else:\n",
    "    print(\"No figures found.\")"
   ]
  },
  {
   "cell_type": "code",
   "execution_count": null,
   "metadata": {},
   "outputs": [
    {
     "name": "stdout",
     "output_type": "stream",
     "text": [
      "['1.1', '2.1', '5.1', '9.1', '10.1', '10.2', '10.3', '10.4']\n"
     ]
    }
   ],
   "source": [
    "# # Alternative way to save figures using get_analyze_result_figure\n",
    "# # Extract figure IDs and save them in a list\n",
    "# figure_ids = [figure['id'] for figure in result.figures]\n",
    "# print(figure_ids)\n",
    "\n",
    "# # Ensure the figures folder exists\n",
    "# os.makedirs(\"extracted_figures\", exist_ok=True)\n",
    "\n",
    "# # Iterate over all figure IDs and save them\n",
    "# for figure_id in figure_ids:\n",
    "#     # Retrieve the figure content using the figure ID\n",
    "#     image_content = document_intelligence_client.get_analyze_result_figure(\"prebuilt-layout\", poller.details['operation_id'], figure_id)\n",
    "    \n",
    "#     # Define the file path for saving the figure\n",
    "#     figure_filename = f\"{figure_id.replace('.', '_')}.png\"\n",
    "#     figure_filepath = os.path.join(\"extracted_figures\", figure_filename)\n",
    "    \n",
    "#     # Save the figure content to the file\n",
    "#     with open(figure_filepath, \"wb\") as figure_file:\n",
    "#         for chunk in image_content:\n",
    "#             figure_file.write(chunk)\n",
    "    \n",
    "#     print(f\"Figure {figure_id} saved as {figure_filepath}\")"
   ]
  },
  {
   "cell_type": "markdown",
   "metadata": {},
   "source": [
    "#### Custom function"
   ]
  },
  {
   "cell_type": "code",
   "execution_count": 32,
   "metadata": {},
   "outputs": [],
   "source": [
    "import fitz\n",
    "from PIL import Image\n",
    "import io"
   ]
  },
  {
   "cell_type": "code",
   "execution_count": null,
   "metadata": {},
   "outputs": [],
   "source": [
    "def crop_image_from_pdf_page(pdf_path, page_number, bounding_box):\n",
    "    \"\"\"\n",
    "    Crops a region from a given page in a PDF and returns it as an image.\n",
    "\n",
    "    Args:    \n",
    "    - pdf_path (pathlib.Path): Path to the PDF file.\n",
    "    - page_number (int): The page number to crop from (0-indexed).\n",
    "    - bounding_box (tuple): A tuple of (x0, y0, x1, y1) coordinates for the bounding box.\n",
    "            These coordinates are in inches and are later converted to points (1 inch = 72 points).\n",
    "    \n",
    "    Returns:\n",
    "    - PIL.Image: A PIL Image of the cropped area.\n",
    "    \"\"\"\n",
    "    doc = fitz.open(pdf_path)\n",
    "    page = doc.load_page(page_number)\n",
    "    \n",
    "    # Cropping the page. The rect requires the coordinates in the format (x0, y0, x1, y1).\n",
    "    bbx = [x * 72 for x in bounding_box]\n",
    "    rect = fitz.Rect(bbx)\n",
    "    # Render the cropped region into a high-resolution image (300 DPI)\n",
    "    pix = page.get_pixmap(matrix=fitz.Matrix(300 / 72, 300 / 72), clip=rect)\n",
    "    \n",
    "    # The resulting pixel data is converted into a PIL.Image object using Image.frombytes, allowing for further manipulation or saving in various image formats.\n",
    "    img = Image.frombytes(\"RGB\", [pix.width, pix.height], pix.samples)\n",
    "    \n",
    "    doc.close()\n",
    "\n",
    "    return img"
   ]
  },
  {
   "cell_type": "code",
   "execution_count": 85,
   "metadata": {},
   "outputs": [
    {
     "name": "stdout",
     "output_type": "stream",
     "text": [
      "Extracting figures...\n",
      "\tFigure 1 saved as figures\\figure_1.png\n",
      "\tFigure 2 saved as figures\\figure_2.png\n",
      "\tFigure 3 saved as figures\\figure_3.png\n",
      "\tFigure 4 saved as figures\\figure_4.png\n",
      "\tFigure 5 saved as figures\\figure_5.png\n",
      "\tFigure 6 saved as figures\\figure_6.png\n",
      "\tFigure 7 saved as figures\\figure_7.png\n",
      "\tFigure 8 saved as figures\\figure_8.png\n"
     ]
    }
   ],
   "source": [
    "if result.figures:\n",
    "    print(\"Extracting figures...\")\n",
    "    for figure_idx, figure in enumerate(result.figures):\n",
    "        for region in figure.bounding_regions:\n",
    "                # Uncomment the below to print out the bounding regions of each figure\n",
    "                # print(f\"Figure {figure_idx + 1} body bounding regions: {region}\")\n",
    "                # To learn more about bounding regions, see https://aka.ms/bounding-region\n",
    "                bounding_box = (\n",
    "                        region.polygon[0],  # x0 (left)\n",
    "                        region.polygon[1],  # y0 (top\n",
    "                        region.polygon[4],  # x1 (right)\n",
    "                        region.polygon[5]   # y1 (bottom)\n",
    "                    )\n",
    "        page_number = figure.bounding_regions[0]['pageNumber']\n",
    "        cropped_img = crop_image_from_pdf_page(file_path, page_number - 1, bounding_box)\n",
    "\n",
    "        os.makedirs(\"figures\", exist_ok=True)\n",
    "\n",
    "        figure_filename = f\"figure_{figure_idx + 1}.png\"\n",
    "        # Full path for the file\n",
    "        figure_filepath = os.path.join(\"figures\", figure_filename)\n",
    "\n",
    "        # Save the figure\n",
    "        cropped_img.save(figure_filepath)\n",
    "        bytes_io = io.BytesIO()\n",
    "        cropped_img.save(bytes_io, format='PNG')\n",
    "        cropped_img = bytes_io.getvalue()\n",
    "\n",
    "        # Print the figure name\n",
    "        print(f\"\\tFigure {figure_idx + 1} saved as {figure_filepath}\")"
   ]
  },
  {
   "cell_type": "markdown",
   "metadata": {},
   "source": [
    "## Chat with your document (basic)"
   ]
  },
  {
   "cell_type": "code",
   "execution_count": 91,
   "metadata": {},
   "outputs": [],
   "source": [
    "from openai import AzureOpenAI"
   ]
  },
  {
   "cell_type": "code",
   "execution_count": 92,
   "metadata": {},
   "outputs": [
    {
     "name": "stdout",
     "output_type": "stream",
     "text": [
      "Current endpoint: https://epaifhub1921084884.openai.azure.com/\n"
     ]
    }
   ],
   "source": [
    "# Load environment variables from .env file\n",
    "load_dotenv(override=True)\n",
    "\n",
    "# Use your `key` and `endpoint` environment variables for Azure Document Intelligence\n",
    "azure_openai_endpoint = os.environ.get('AZURE_OPENAI_ENDPOINT')\n",
    "print(f'Current endpoint: {azure_openai_endpoint}')"
   ]
  },
  {
   "cell_type": "markdown",
   "metadata": {},
   "source": [
    "### Azure OpenAI client"
   ]
  },
  {
   "cell_type": "code",
   "execution_count": 99,
   "metadata": {},
   "outputs": [],
   "source": [
    "client = AzureOpenAI(\n",
    "  azure_endpoint = os.getenv(\"AZURE_OPENAI_ENDPOINT\"), \n",
    "  api_key=os.getenv(\"AZURE_OPENAI_KEY\"),  \n",
    "  api_version=\"2024-05-01-preview\" #\"2024-08-01-preview\"\n",
    ")"
   ]
  },
  {
   "cell_type": "markdown",
   "metadata": {},
   "source": [
    "### Prompt template"
   ]
  },
  {
   "cell_type": "code",
   "execution_count": 94,
   "metadata": {},
   "outputs": [],
   "source": [
    "question = \"What quarterly period does this form cover?\""
   ]
  },
  {
   "cell_type": "code",
   "execution_count": 95,
   "metadata": {},
   "outputs": [],
   "source": [
    "document_prompt = f\"\"\"\n",
    "Given the markdown-formatted content extracted, answer the following question using only the information contained in the content.\n",
    "---\n",
    "\n",
    "Answer concisely and factually. If the information is not present, reply: \"Not specified in the document.\"\n",
    "---\n",
    "\n",
    "Markdown Content:\n",
    "{result.content}\n",
    "---\n",
    "\n",
    "Question:\n",
    "{question}\n",
    "\"\"\""
   ]
  },
  {
   "cell_type": "markdown",
   "metadata": {},
   "source": [
    "### Chat"
   ]
  },
  {
   "cell_type": "code",
   "execution_count": 100,
   "metadata": {},
   "outputs": [
    {
     "name": "stdout",
     "output_type": "stream",
     "text": [
      "The quarterly period covered by this form is the period ended March 31, 2020.\n"
     ]
    }
   ],
   "source": [
    "document_response = client.chat.completions.create(\n",
    "    messages=[\n",
    "        {\n",
    "            \"role\": \"system\",\n",
    "            \"content\": \"You are a document understanding assistant.\",\n",
    "        },\n",
    "        {\n",
    "            \"role\": \"user\", \n",
    "            \"content\": document_prompt,\n",
    "        },\n",
    "    ],\n",
    "    model=\"gpt-4o\", \n",
    "    temperature=0.0, # for stable results\n",
    ")\n",
    "\n",
    "print(document_response.choices[0].message.content)"
   ]
  },
  {
   "cell_type": "markdown",
   "metadata": {},
   "source": [
    "### Questions generation"
   ]
  },
  {
   "cell_type": "code",
   "execution_count": 97,
   "metadata": {},
   "outputs": [],
   "source": [
    "questions_prompt = f\"\"\"\n",
    "Given the following markdown-formatted content, generate a list of 5 relevant questions that can be used to verify the correct processing and comprehension of the document by an automated pipeline.\n",
    "\n",
    "The questions could cover:\n",
    "- Document metadata and structure\n",
    "- Company information\n",
    "- Securities details\n",
    "- Compliance and filing status\n",
    "- Shares outstanding\n",
    "\n",
    "Make sure the questions are clear, factual, and refer only to the information available in the text.\n",
    "\n",
    "---\n",
    "\n",
    "Markdown Content:\n",
    "{result.content}\n",
    "\n",
    "---\n",
    "\n",
    "Now, list the questions based on the markdown content above.\n",
    "\"\"\""
   ]
  },
  {
   "cell_type": "code",
   "execution_count": 98,
   "metadata": {},
   "outputs": [
    {
     "name": "stdout",
     "output_type": "stream",
     "text": [
      "Here are five relevant questions based on the provided markdown content:\n",
      "\n",
      "1. **Document Metadata and Structure**  \n",
      "   - What is the form type of the document, and for which quarterly period is the report filed?\n",
      "\n",
      "2. **Company Information**  \n",
      "   - What is the name of the company, its state of incorporation, and its principal address as listed in the document?\n",
      "\n",
      "3. **Securities Details**  \n",
      "   - What securities are registered pursuant to Section 12(b) of the Securities Exchange Act, and what is the trading symbol and exchange for these securities?\n",
      "\n",
      "4. **Compliance and Filing Status**  \n",
      "   - Has the registrant filed all reports required by Section 13 or 15(d) of the Securities Exchange Act during the preceding 12 months, and is the registrant classified as a large accelerated filer?\n",
      "\n",
      "5. **Shares Outstanding**  \n",
      "   - As of April 24, 2020, how many shares of common stock, with a par value of $0.00000625 per share, were outstanding?\n"
     ]
    }
   ],
   "source": [
    "questions_response = client.chat.completions.create(\n",
    "    messages=[\n",
    "        {\n",
    "            \"role\": \"system\",\n",
    "            \"content\": \"You are a document understanding assistant.\",\n",
    "        },\n",
    "        {\n",
    "            \"role\": \"user\", \n",
    "            \"content\": questions_prompt,\n",
    "        },\n",
    "    ],\n",
    "    model=\"gpt-4o\", \n",
    "    temperature=0.0, # for stable results\n",
    ")\n",
    "\n",
    "print(questions_response.choices[0].message.content)"
   ]
  }
 ],
 "metadata": {
  "kernelspec": {
   "display_name": "di-upskilling",
   "language": "python",
   "name": "python3"
  },
  "language_info": {
   "codemirror_mode": {
    "name": "ipython",
    "version": 3
   },
   "file_extension": ".py",
   "mimetype": "text/x-python",
   "name": "python",
   "nbconvert_exporter": "python",
   "pygments_lexer": "ipython3",
   "version": "3.10.16"
  }
 },
 "nbformat": 4,
 "nbformat_minor": 2
}
